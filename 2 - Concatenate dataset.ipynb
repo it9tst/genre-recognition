{
 "cells": [
  {
   "cell_type": "code",
   "execution_count": 1,
   "id": "d07c2b6f-a5b8-44bf-885b-bf7a14f8e4cc",
   "metadata": {},
   "outputs": [],
   "source": [
    "import numpy as np\n",
    "import librosa"
   ]
  },
  {
   "cell_type": "markdown",
   "id": "95720d9a-a3ae-4a1c-8706-2e0100d97d35",
   "metadata": {},
   "source": [
    "## Concatenate and Shuffle data"
   ]
  },
  {
   "cell_type": "code",
   "execution_count": 2,
   "id": "3e04e68d-b43b-4c15-a35f-4756ccc4c880",
   "metadata": {},
   "outputs": [
    {
     "name": "stdout",
     "output_type": "stream",
     "text": [
      "['arr_0', 'arr_1']\n",
      "(1600, 640, 128) (1600,)\n"
     ]
    }
   ],
   "source": [
    "npzfile = np.load('train1_arr.npz')\n",
    "print(npzfile.files)\n",
    "X_train1 = npzfile['arr_0']\n",
    "y_train1 = npzfile['arr_1']\n",
    "print(X_train1.shape, y_train1.shape)"
   ]
  },
  {
   "cell_type": "code",
   "execution_count": 3,
   "id": "88ca98dd-6e25-49e2-9a6e-ca7587734ecb",
   "metadata": {},
   "outputs": [
    {
     "name": "stdout",
     "output_type": "stream",
     "text": [
      "['arr_0', 'arr_1']\n",
      "(1600, 640, 128) (1600,)\n"
     ]
    }
   ],
   "source": [
    "npzfile = np.load('train2_arr.npz')\n",
    "print(npzfile.files)\n",
    "X_train2 = npzfile['arr_0']\n",
    "y_train2 = npzfile['arr_1']\n",
    "print(X_train2.shape, y_train2.shape)"
   ]
  },
  {
   "cell_type": "code",
   "execution_count": 4,
   "id": "3447d166-267b-48f4-a5bc-e187e27e8461",
   "metadata": {},
   "outputs": [
    {
     "name": "stdout",
     "output_type": "stream",
     "text": [
      "['arr_0', 'arr_1']\n",
      "(1595, 640, 128) (1595,)\n"
     ]
    }
   ],
   "source": [
    "npzfile = np.load('train3_arr.npz')\n",
    "print(npzfile.files)\n",
    "X_train3 = npzfile['arr_0']\n",
    "y_train3 = npzfile['arr_1']\n",
    "print(X_train3.shape, y_train3.shape)"
   ]
  },
  {
   "cell_type": "code",
   "execution_count": 5,
   "id": "a4710fe8-3fca-421c-bbfd-8dd779aba1cd",
   "metadata": {},
   "outputs": [
    {
     "name": "stdout",
     "output_type": "stream",
     "text": [
      "['arr_0', 'arr_1']\n",
      "(1599, 640, 128) (1599,)\n"
     ]
    }
   ],
   "source": [
    "npzfile = np.load('train4_arr.npz')\n",
    "print(npzfile.files)\n",
    "X_train4 = npzfile['arr_0']\n",
    "y_train4 = npzfile['arr_1']\n",
    "print(X_train4.shape, y_train4.shape)"
   ]
  },
  {
   "cell_type": "code",
   "execution_count": 6,
   "id": "6f043bd3-b243-4433-a825-ec008eb4e6f2",
   "metadata": {},
   "outputs": [
    {
     "name": "stdout",
     "output_type": "stream",
     "text": [
      "['arr_0', 'arr_1']\n",
      "(800, 640, 128) (800,)\n"
     ]
    }
   ],
   "source": [
    "npzfile = np.load('valid_arr.npz')\n",
    "print(npzfile.files)\n",
    "X_valid = npzfile['arr_0']\n",
    "y_valid = npzfile['arr_1']\n",
    "print(X_valid.shape, y_valid.shape)"
   ]
  },
  {
   "cell_type": "markdown",
   "id": "e9fbae72-bf45-4aaa-bccd-574376b7dfa2",
   "metadata": {},
   "source": [
    "##### Concatenate train data"
   ]
  },
  {
   "cell_type": "code",
   "execution_count": 7,
   "id": "c8b8e9b8-423a-4a1c-b8cc-b954f580925b",
   "metadata": {},
   "outputs": [
    {
     "name": "stdout",
     "output_type": "stream",
     "text": [
      "(6394, 640, 128) (6394,)\n"
     ]
    }
   ],
   "source": [
    "X_train = np.concatenate((X_train1, X_train2, X_train3, X_train4), axis = 0)\n",
    "y_train = np.concatenate((y_train1, y_train2, y_train3, y_train4), axis = 0)\n",
    "print(X_train.shape, y_train.shape)"
   ]
  },
  {
   "cell_type": "code",
   "execution_count": 8,
   "id": "5d72eee9-ee6a-4170-bcfd-dfabdb5011ea",
   "metadata": {},
   "outputs": [
    {
     "name": "stdout",
     "output_type": "stream",
     "text": [
      "-80.0 3.814697265625e-06 -44.082593460996286\n",
      "0 7 3.500625586487332\n"
     ]
    }
   ],
   "source": [
    "## Convert y data from scale 0-7\n",
    "print(np.amin(X_train), np.amax(X_train), np.mean(X_train))\n",
    "y_train = y_train -1\n",
    "y_valid = y_valid -1\n",
    "print(np.amin(y_train), np.amax(y_train), np.mean(y_train))"
   ]
  },
  {
   "cell_type": "code",
   "execution_count": 9,
   "id": "f5011f86-e8c7-4890-8cda-5ffc15930540",
   "metadata": {},
   "outputs": [
    {
     "name": "stdout",
     "output_type": "stream",
     "text": [
      "1e-08 1.0000008783668917 0.00443671157818484\n"
     ]
    }
   ],
   "source": [
    "### Convert the scale of training data\n",
    "X_train_raw = librosa.core.db_to_power(X_train, ref=1.0)\n",
    "print(np.amin(X_train_raw), np.amax(X_train_raw), np.mean(X_train_raw))"
   ]
  },
  {
   "cell_type": "code",
   "execution_count": 10,
   "id": "b3103a0d-b5a3-4ec7-982a-0b3f3626320c",
   "metadata": {},
   "outputs": [
    {
     "name": "stdout",
     "output_type": "stream",
     "text": [
      "-18.420680743952367 8.783665059016772e-07 -10.150392256380561\n"
     ]
    }
   ],
   "source": [
    "X_train_log = np.log(X_train_raw)\n",
    "print(np.amin(X_train_log), np.amax(X_train_log), np.mean(X_train_log))"
   ]
  },
  {
   "cell_type": "code",
   "execution_count": 11,
   "id": "9510ada7-2c64-4dc2-a921-2b75461f5bc3",
   "metadata": {},
   "outputs": [],
   "source": [
    "X_valid_raw = librosa.core.db_to_power(X_valid, ref=1.0)\n",
    "X_valid_log = np.log(X_valid_raw)"
   ]
  },
  {
   "cell_type": "code",
   "execution_count": 12,
   "id": "06c0953f-695e-4921-90ee-29843df8e58f",
   "metadata": {},
   "outputs": [],
   "source": [
    "def unison_shuffled_copies(a, b):\n",
    "    assert len(a) == len(b)\n",
    "    p = np.random.permutation(len(a))\n",
    "    return a[p], b[p]\n",
    "\n",
    "X_train, y_train = unison_shuffled_copies(X_train_log, y_train)\n",
    "X_valid, y_valid = unison_shuffled_copies(X_valid_log, y_valid)"
   ]
  },
  {
   "cell_type": "code",
   "execution_count": 13,
   "id": "8bc770db-d987-41f3-a56c-dc9987cc2f73",
   "metadata": {},
   "outputs": [
    {
     "name": "stdout",
     "output_type": "stream",
     "text": [
      "Shapes are:  (6394, 640, 128) (800, 640, 128) (6394,) (800,)\n"
     ]
    }
   ],
   "source": [
    "print(\"Shapes are: \", X_train.shape, X_valid.shape, y_train.shape, y_valid.shape)"
   ]
  },
  {
   "cell_type": "code",
   "execution_count": 14,
   "id": "1455ef44-2490-46cb-b2c9-81cfb40ce39b",
   "metadata": {},
   "outputs": [],
   "source": [
    "np.savez('shuffled_train', X_train, y_train)\n",
    "np.savez('shuffled_valid', X_valid, y_valid)"
   ]
  },
  {
   "cell_type": "code",
   "execution_count": null,
   "id": "61177428-b89f-4d63-aecc-2682c3500012",
   "metadata": {},
   "outputs": [],
   "source": []
  }
 ],
 "metadata": {
  "kernelspec": {
   "display_name": "Python 3 (ipykernel)",
   "language": "python",
   "name": "python3"
  },
  "language_info": {
   "codemirror_mode": {
    "name": "ipython",
    "version": 3
   },
   "file_extension": ".py",
   "mimetype": "text/x-python",
   "name": "python",
   "nbconvert_exporter": "python",
   "pygments_lexer": "ipython3",
   "version": "3.7.11"
  }
 },
 "nbformat": 4,
 "nbformat_minor": 5
}
