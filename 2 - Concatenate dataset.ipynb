{
 "cells": [
  {
   "cell_type": "code",
   "execution_count": 1,
   "id": "d07c2b6f-a5b8-44bf-885b-bf7a14f8e4cc",
   "metadata": {},
   "outputs": [],
   "source": [
    "import numpy as np\n",
    "import librosa\n",
    "import random\n",
    "from tensorflow.keras import utils"
   ]
  },
  {
   "cell_type": "code",
   "execution_count": 2,
   "id": "6600ec07-3f00-436d-9429-e6aa9cf407b1",
   "metadata": {},
   "outputs": [
    {
     "name": "stdout",
     "output_type": "stream",
     "text": [
      "['arr_0', 'arr_1']\n",
      "(999, 1280, 128) (999,)\n"
     ]
    }
   ],
   "source": [
    "npzfile = np.load('data/all_targets_sets.npz')\n",
    "print(npzfile.files)\n",
    "\n",
    "X_data = npzfile['arr_0']\n",
    "y_data = npzfile['arr_1']\n",
    "print(X_data.shape, y_data.shape)"
   ]
  },
  {
   "cell_type": "code",
   "execution_count": 3,
   "id": "a703777d-81e3-4d6f-98c9-3f1409a1e518",
   "metadata": {},
   "outputs": [
    {
     "name": "stdout",
     "output_type": "stream",
     "text": [
      "(9990, 128, 128) (9990,)\n"
     ]
    }
   ],
   "source": [
    "X_data_repeat = []\n",
    "for x in X_data:\n",
    "    X_data_repeat.extend(np.split(x, 10))\n",
    "\n",
    "X_data_repeat = np.array(X_data_repeat)\n",
    "y_data_repeat = np.repeat(y_data, 10, axis=0)\n",
    "print(X_data_repeat.shape, y_data_repeat.shape)"
   ]
  },
  {
   "cell_type": "code",
   "execution_count": 4,
   "id": "1b579f3f-644f-4fd5-9d1e-187072e09e44",
   "metadata": {},
   "outputs": [],
   "source": [
    "X_data = X_data_repeat\n",
    "y_data = y_data_repeat"
   ]
  },
  {
   "cell_type": "code",
   "execution_count": 5,
   "id": "2e0b877d-2850-4787-b795-612c591497a5",
   "metadata": {},
   "outputs": [
    {
     "name": "stdout",
     "output_type": "stream",
     "text": [
      "(9990, 128, 128) (9990, 10)\n"
     ]
    }
   ],
   "source": [
    "y_data = utils.to_categorical(y_data, num_classes=10).astype(int)\n",
    "print(X_data.shape, y_data.shape)"
   ]
  },
  {
   "cell_type": "code",
   "execution_count": 6,
   "id": "001b5747-5b2b-45a6-81f8-512d3693516b",
   "metadata": {},
   "outputs": [],
   "source": [
    "training_data = []\n",
    "for i in range(X_data.shape[0]):\n",
    "    training_data.append((X_data[i], y_data[i]))"
   ]
  },
  {
   "cell_type": "code",
   "execution_count": 7,
   "id": "8d21ade8-a36a-4921-b88f-477e19af2114",
   "metadata": {},
   "outputs": [],
   "source": [
    "def prepare_data(data):\n",
    "    X = []\n",
    "    y = []\n",
    "\n",
    "    for frames, labels in data:\n",
    "        X.append(frames)\n",
    "        y.append(labels)\n",
    "    return X, y"
   ]
  },
  {
   "cell_type": "code",
   "execution_count": 8,
   "id": "23e5269e-25c4-4c9c-bd10-5b0b8c86bb71",
   "metadata": {},
   "outputs": [],
   "source": [
    "def partition_data():\n",
    "    # Randomize training set\n",
    "    random.shuffle(training_data)\n",
    "\n",
    "    X_train, y_train = prepare_data(training_data)\n",
    "\n",
    "    # Calculate validation and test set sizes\n",
    "    val_set_size = int(len(training_data) * 0.1)\n",
    "    test_set_size = int(len(training_data) * 0.1)\n",
    "\n",
    "    # Break x apart into train, validation, and test sets\n",
    "    X_valid = X_train[:val_set_size]\n",
    "    X_test = X_train[val_set_size:(val_set_size + test_set_size)]\n",
    "    X_train = X_train[(val_set_size + test_set_size):]\n",
    "\n",
    "    # Break y apart into train, validation, and test sets\n",
    "    y_valid = y_train[:val_set_size]\n",
    "    y_test = y_train[val_set_size:(val_set_size + test_set_size)]\n",
    "    y_train = y_train[(val_set_size + test_set_size):]\n",
    "\n",
    "    print(\"Train set size: \" + str(len(X_train)))\n",
    "    print(\"Validation set size: \" + str(len(X_valid)))\n",
    "    print(\"Test set size: \" + str(len(X_test)))\n",
    "    \n",
    "    return np.array(X_train), np.array(y_train), np.array(X_valid), np.array(y_valid), np.array(X_test), np.array(y_test)"
   ]
  },
  {
   "cell_type": "code",
   "execution_count": 9,
   "id": "884951f3-7544-47f4-ae20-b114bc4a3269",
   "metadata": {},
   "outputs": [
    {
     "name": "stdout",
     "output_type": "stream",
     "text": [
      "Train set size: 7992\n",
      "Validation set size: 999\n",
      "Test set size: 999\n"
     ]
    }
   ],
   "source": [
    "X_train, y_train, X_valid, y_valid, X_test, y_test = partition_data()"
   ]
  },
  {
   "cell_type": "code",
   "execution_count": null,
   "id": "20efbccf-72fc-40b6-bc4a-35e9fa28ce61",
   "metadata": {},
   "outputs": [],
   "source": []
  },
  {
   "cell_type": "code",
   "execution_count": 10,
   "id": "f5011f86-e8c7-4890-8cda-5ffc15930540",
   "metadata": {},
   "outputs": [
    {
     "name": "stdout",
     "output_type": "stream",
     "text": [
      "1e-08 1.0000008783668917 0.0036015789420766535\n",
      "-18.420680743952367 8.783665059016772e-07 -9.847497308221024\n"
     ]
    }
   ],
   "source": [
    "### Convert the scale of training data\n",
    "X_train_raw = librosa.core.db_to_power(X_train, ref=1.0)\n",
    "X_train_log = np.log(X_train_raw)\n",
    "print(np.amin(X_train_raw), np.amax(X_train_raw), np.mean(X_train_raw))\n",
    "print(np.amin(X_train_log), np.amax(X_train_log), np.mean(X_train_log))"
   ]
  },
  {
   "cell_type": "code",
   "execution_count": 11,
   "id": "b3103a0d-b5a3-4ec7-982a-0b3f3626320c",
   "metadata": {},
   "outputs": [
    {
     "name": "stdout",
     "output_type": "stream",
     "text": [
      "1e-08 1.0000008783668917 0.003574649189395486\n",
      "-18.420680743952367 8.783665059016772e-07 -9.86975440761025\n"
     ]
    }
   ],
   "source": [
    "X_valid_raw = librosa.core.db_to_power(X_valid, ref=1.0)\n",
    "X_valid_log = np.log(X_valid_raw)\n",
    "print(np.amin(X_valid_raw), np.amax(X_valid_raw), np.mean(X_valid_raw))\n",
    "print(np.amin(X_valid_log), np.amax(X_valid_log), np.mean(X_valid_log))"
   ]
  },
  {
   "cell_type": "code",
   "execution_count": 12,
   "id": "9510ada7-2c64-4dc2-a921-2b75461f5bc3",
   "metadata": {},
   "outputs": [
    {
     "name": "stdout",
     "output_type": "stream",
     "text": [
      "1e-08 1.0000008783668917 0.0035899243579161576\n",
      "-18.420680743952367 8.783665059016772e-07 -9.892712904340819\n"
     ]
    }
   ],
   "source": [
    "X_test_raw = librosa.core.db_to_power(X_test, ref=1.0)\n",
    "X_test_log = np.log(X_test_raw)\n",
    "print(np.amin(X_test_raw), np.amax(X_test_raw), np.mean(X_test_raw))\n",
    "print(np.amin(X_test_log), np.amax(X_test_log), np.mean(X_test_log))"
   ]
  },
  {
   "cell_type": "code",
   "execution_count": null,
   "id": "ab8fdeba-6c71-42b1-b603-d104b304769e",
   "metadata": {},
   "outputs": [],
   "source": []
  },
  {
   "cell_type": "code",
   "execution_count": 13,
   "id": "06c0953f-695e-4921-90ee-29843df8e58f",
   "metadata": {},
   "outputs": [],
   "source": [
    "X_train, y_train = X_train_log, y_train\n",
    "X_valid, y_valid = X_valid_log, y_valid\n",
    "X_test, y_test = X_test_log, y_test"
   ]
  },
  {
   "cell_type": "code",
   "execution_count": 14,
   "id": "8bc770db-d987-41f3-a56c-dc9987cc2f73",
   "metadata": {},
   "outputs": [
    {
     "name": "stdout",
     "output_type": "stream",
     "text": [
      "Train set shapes:  (7992, 128, 128) (7992, 10)\n",
      "Validation set shapes:  (999, 128, 128) (999, 10)\n",
      "Test set shapes:  (999, 128, 128) (999, 10)\n"
     ]
    }
   ],
   "source": [
    "print(\"Train set shapes: \", X_train.shape, y_train.shape)\n",
    "print(\"Validation set shapes: \", X_valid.shape, y_valid.shape)\n",
    "print(\"Test set shapes: \", X_test.shape, y_test.shape)"
   ]
  },
  {
   "cell_type": "code",
   "execution_count": 15,
   "id": "1455ef44-2490-46cb-b2c9-81cfb40ce39b",
   "metadata": {},
   "outputs": [],
   "source": [
    "np.savez('data/all_targets_sets_train', X_train, y_train)\n",
    "np.savez('data/all_targets_sets_valid', X_valid, y_valid)\n",
    "np.savez('data/all_targets_sets_test', X_test, y_test)"
   ]
  },
  {
   "cell_type": "code",
   "execution_count": null,
   "id": "61177428-b89f-4d63-aecc-2682c3500012",
   "metadata": {},
   "outputs": [],
   "source": []
  }
 ],
 "metadata": {
  "kernelspec": {
   "display_name": "Python 3 (ipykernel)",
   "language": "python",
   "name": "python3"
  },
  "language_info": {
   "codemirror_mode": {
    "name": "ipython",
    "version": 3
   },
   "file_extension": ".py",
   "mimetype": "text/x-python",
   "name": "python",
   "nbconvert_exporter": "python",
   "pygments_lexer": "ipython3",
   "version": "3.7.11"
  }
 },
 "nbformat": 4,
 "nbformat_minor": 5
}
