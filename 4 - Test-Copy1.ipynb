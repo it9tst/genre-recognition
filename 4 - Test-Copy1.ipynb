{
 "cells": [
  {
   "cell_type": "code",
   "execution_count": 1,
   "id": "4be0c361-133a-4950-acec-e753850ced35",
   "metadata": {},
   "outputs": [],
   "source": [
    "import numpy as np\n",
    "import matplotlib.pyplot as plt\n",
    "import tensorflow as tf\n",
    "from tensorflow.keras.models import load_model\n",
    "from tensorflow.keras import utils\n",
    "from sklearn.metrics import classification_report\n",
    "from sklearn.metrics import confusion_matrix\n",
    "from sklearn.metrics import accuracy_score\n",
    "import seaborn as sns\n",
    "import librosa\n",
    "import librosa.display\n",
    "%matplotlib inline"
   ]
  },
  {
   "cell_type": "code",
   "execution_count": 2,
   "id": "60c6a8ef-5b4b-40b9-9314-fda99e5df4ec",
   "metadata": {},
   "outputs": [
    {
     "name": "stdout",
     "output_type": "stream",
     "text": [
      "GPU found\n"
     ]
    }
   ],
   "source": [
    "from tensorflow.compat.v1 import ConfigProto\n",
    "from tensorflow.compat.v1 import Session\n",
    "\n",
    "config = ConfigProto()\n",
    "config.gpu_options.allow_growth = True\n",
    "sess = Session(config=config)\n",
    "\n",
    "if tf.test.gpu_device_name():\n",
    "    print(\"GPU found\")\n",
    "else:\n",
    "    print(\"No GPU found\")"
   ]
  },
  {
   "cell_type": "markdown",
   "id": "b1e91744-506f-4cf6-aad5-aa60400232da",
   "metadata": {},
   "source": [
    "## Look at the Test Set"
   ]
  },
  {
   "cell_type": "code",
   "execution_count": 3,
   "id": "1ebef1cc-1314-4123-854c-f3bfafb431de",
   "metadata": {},
   "outputs": [],
   "source": [
    "dict_genres = {'Blues':0, 'Classical':1, 'Country':2, 'Disco':3, 'Hip-Hop':4, 'Jazz':5, 'Metal':6, 'Pop':7, 'Reggae':8, 'Rock':9}"
   ]
  },
  {
   "cell_type": "code",
   "execution_count": 4,
   "id": "02d338e0-ea2f-4378-a9e5-914b605f7d59",
   "metadata": {
    "jupyter": {
     "source_hidden": true
    },
    "tags": []
   },
   "outputs": [],
   "source": [
    "# Tree_7\n",
    "model_root = load_model('models/tree_7/model_finals/model_root.h5')\n",
    "model_root_f1 = load_model('models/tree_7/model_finals/model_root_f1.h5')\n",
    "model_root_f1_1 = load_model('models/tree_7/model_finals/model_root_f1_1.h5')\n",
    "model_root_f1_2 = load_model('models/tree_7/model_finals/model_root_f1_2.h5')\n",
    "model_root_f1_2_1 = load_model('models/tree_7/model_finals/model_root_f1_2_1.h5')\n",
    "model_root_f2 = load_model('models/tree_7/model_finals/model_root_f2.h5')\n",
    "model_root_f2_1 = load_model('models/tree_7/model_finals/model_root_f2_1.h5')\n",
    "model_root_f2_1_1 = load_model('models/tree_7/model_finals/model_root_f2_1_1.h5')\n",
    "model_root_f2_2 = load_model('models/tree_7/model_finals/model_root_f2_2.h5')"
   ]
  },
  {
   "cell_type": "code",
   "execution_count": 4,
   "id": "bf7be7a2-b3f3-4ad2-b4e0-7a96805d15e3",
   "metadata": {
    "tags": []
   },
   "outputs": [],
   "source": [
    "# Tree_8\n",
    "model_root = load_model('models/tree_8/model_finals/model_root.h5')\n",
    "model_root_f1 = load_model('models/tree_8/model_finals/model_root_f1.h5')\n",
    "model_root_f1_1 = load_model('models/tree_8/model_finals/model_root_f1_1.h5')\n",
    "model_root_f1_2 = load_model('models/tree_8/model_finals/model_root_f1_2.h5')\n",
    "model_root_f1_2_1 = load_model('models/tree_8/model_finals/model_root_f1_2_1.h5')\n",
    "model_root_f2 = load_model('models/tree_8/model_finals/model_root_f2.h5')\n",
    "model_root_f2_1 = load_model('models/tree_8/model_finals/model_root_f2_1.h5')\n",
    "model_root_f2_1_1 = load_model('models/tree_8/model_finals/model_root_f2_1_1.h5')\n",
    "model_root_f2_2 = load_model('models/tree_8/model_finals/model_root_f2_2.h5')"
   ]
  },
  {
   "cell_type": "code",
   "execution_count": 5,
   "id": "10e33306-dfe7-4836-a70e-b5f74bba0f45",
   "metadata": {},
   "outputs": [
    {
     "name": "stdout",
     "output_type": "stream",
     "text": [
      "['arr_0', 'arr_1']\n",
      "(1000, 128, 128) (1000, 10)\n"
     ]
    }
   ],
   "source": [
    "npzfile = np.load('data/all_targets_sets_test_new.npz')\n",
    "print(npzfile.files)\n",
    "\n",
    "X_test = npzfile['arr_0']\n",
    "y_test = npzfile['arr_1']\n",
    "print(X_test.shape, y_test.shape)"
   ]
  },
  {
   "cell_type": "code",
   "execution_count": 6,
   "id": "75983c25-ba06-4517-bc78-77b0a022b503",
   "metadata": {},
   "outputs": [],
   "source": [
    "y_test = np.argmax(y_test, axis= -1)"
   ]
  },
  {
   "cell_type": "code",
   "execution_count": 7,
   "id": "0767e9ec-1d50-4a4d-82ac-ba08598083d5",
   "metadata": {},
   "outputs": [],
   "source": [
    "y_true = np.copy(y_test)"
   ]
  },
  {
   "cell_type": "code",
   "execution_count": 8,
   "id": "a9b60e16-f20c-408d-939d-b51ec249d81a",
   "metadata": {},
   "outputs": [],
   "source": [
    "X_test = np.expand_dims(X_test, axis = -1)"
   ]
  },
  {
   "cell_type": "code",
   "execution_count": 9,
   "id": "6e630b22-8125-4087-96fd-21eedbe1bffc",
   "metadata": {},
   "outputs": [
    {
     "name": "stdout",
     "output_type": "stream",
     "text": [
      "(1000, 128, 128, 1) (1000,) (1000,)\n"
     ]
    }
   ],
   "source": [
    "print(X_test.shape, y_test.shape, y_true.shape)"
   ]
  },
  {
   "cell_type": "code",
   "execution_count": 10,
   "id": "ba4fea5c-a651-4f68-b389-04f51804ba06",
   "metadata": {},
   "outputs": [],
   "source": [
    "class ModelNodeTree():\n",
    "    def __init__(self, model, left, right, translate = None):\n",
    "        self._model = model\n",
    "        self._left = left\n",
    "        self._right = right\n",
    "        self._translate = translate\n",
    "        \n",
    "    def predict(self, batch):\n",
    "        y = self._model.predict(batch)\n",
    "        y = np.argmax(y, axis=-1)\n",
    "        y_copy = np.copy(y)\n",
    "        \n",
    "        if self._translate is not None:\n",
    "            for k, t in self._translate.items():\n",
    "                y[y_copy == t] = k\n",
    "        else:\n",
    "            if np.sum(y_copy == 0) > 0:\n",
    "                if type(self._left) == int:\n",
    "                    y[y_copy == 0] = self._left\n",
    "                else:\n",
    "                    y[y_copy == 0] = self._left.predict(batch[y_copy == 0])\n",
    "\n",
    "            if np.sum(y_copy == 1) > 0:\n",
    "                if type(self._right) == int:\n",
    "                    y[y_copy == 1] = self._right\n",
    "                else:\n",
    "                    y[y_copy == 1] = self._right.predict(batch[y_copy == 1])\n",
    "        \n",
    "        return y"
   ]
  },
  {
   "cell_type": "code",
   "execution_count": 11,
   "id": "676a1838-e859-4374-96fd-143ce3de2830",
   "metadata": {
    "jupyter": {
     "source_hidden": true
    },
    "tags": []
   },
   "outputs": [],
   "source": [
    "# Test_7\n",
    "f2_2 = ModelNodeTree(model_root_f2_2, 7, 3)\n",
    "f2_1_1 = ModelNodeTree(model_root_f2_1_1, 9, 2)\n",
    "f2_1 = ModelNodeTree(model_root_f2_1, f2_1_1, 6)\n",
    "f2 = ModelNodeTree(model_root_f2, f2_1, f2_2)\n",
    "\n",
    "f1_2_1 = ModelNodeTree(model_root_f1_2_1, 5, 0)\n",
    "f1_2 = ModelNodeTree(model_root_f1_2, f1_2_1, 1)\n",
    "f1_1 = ModelNodeTree(model_root_f1_1, 8, 4)\n",
    "f1 = ModelNodeTree(model_root_f1, f1_1, f1_2)\n",
    "\n",
    "root = ModelNodeTree(model_root, f1, f2)"
   ]
  },
  {
   "cell_type": "code",
   "execution_count": 11,
   "id": "4f5ef0b8-7305-4191-a4ca-ef1a2b963a8e",
   "metadata": {
    "tags": []
   },
   "outputs": [],
   "source": [
    "# Test_8\n",
    "f2_2 = ModelNodeTree(model_root_f2_2, 6, 1)\n",
    "f2_1_1 = ModelNodeTree(model_root_f2_1_1, 7, 3)\n",
    "f2_1 = ModelNodeTree(model_root_f2_1, f2_1_1, 4)\n",
    "f2 = ModelNodeTree(model_root_f2, f2_1, f2_2)\n",
    "\n",
    "f1_2_1 = ModelNodeTree(model_root_f1_2_1, 8, 0)\n",
    "f1_2 = ModelNodeTree(model_root_f1_2, f1_2_1, 5)\n",
    "f1_1 = ModelNodeTree(model_root_f1_1, 9, 2)\n",
    "f1 = ModelNodeTree(model_root_f1, f1_1, f1_2)\n",
    "\n",
    "root = ModelNodeTree(model_root, f1, f2)"
   ]
  },
  {
   "cell_type": "code",
   "execution_count": 12,
   "id": "044f33cf-8fc7-4a14-9e39-3720eabd4095",
   "metadata": {},
   "outputs": [],
   "source": [
    "y_pred = root.predict(X_test)"
   ]
  },
  {
   "cell_type": "code",
   "execution_count": 13,
   "id": "763993a0-e7e1-4bb1-a3e3-7d1540c5786b",
   "metadata": {},
   "outputs": [
    {
     "name": "stdout",
     "output_type": "stream",
     "text": [
      "(1000,) (1000,)\n",
      "              precision    recall  f1-score   support\n",
      "\n",
      "       Blues       0.90      0.86      0.88       100\n",
      "   Classical       0.92      0.87      0.89       100\n",
      "     Country       0.69      0.65      0.67       100\n",
      "       Disco       0.63      0.66      0.64       100\n",
      "     Hip-Hop       0.89      0.87      0.88       100\n",
      "        Jazz       0.85      0.91      0.88       100\n",
      "       Metal       0.93      0.87      0.90       100\n",
      "         Pop       0.69      0.73      0.71       100\n",
      "      Reggae       0.80      0.79      0.79       100\n",
      "        Rock       0.62      0.66      0.64       100\n",
      "\n",
      "    accuracy                           0.79      1000\n",
      "   macro avg       0.79      0.79      0.79      1000\n",
      "weighted avg       0.79      0.79      0.79      1000\n",
      "\n"
     ]
    }
   ],
   "source": [
    "target_names = dict_genres.keys()\n",
    "\n",
    "print(y_true.shape, y_pred.shape)\n",
    "print(classification_report(y_true, y_pred, target_names=target_names, zero_division=0))"
   ]
  },
  {
   "cell_type": "code",
   "execution_count": 14,
   "id": "074dc0ef-aa4c-4733-8921-f46776170e56",
   "metadata": {},
   "outputs": [
    {
     "data": {
      "text/plain": [
       "Text(91.68, 0.5, 'predicted label')"
      ]
     },
     "execution_count": 14,
     "metadata": {},
     "output_type": "execute_result"
    },
    {
     "data": {
      "image/png": "[encoded data removed]",
      "text/plain": [
       "<Figure size 432x288 with 1 Axes>"
      ]
     },
     "metadata": {
      "needs_background": "light"
     },
     "output_type": "display_data"
    }
   ],
   "source": [
    "mat = confusion_matrix(y_true, y_pred)\n",
    "sns.heatmap(mat.T, square=True, annot=True, fmt='d', cbar=False, xticklabels=target_names, yticklabels=target_names)\n",
    "plt.xlabel('true label')\n",
    "plt.ylabel('predicted label')"
   ]
  },
  {
   "cell_type": "code",
   "execution_count": 15,
   "id": "f27a2bf0-6ddb-4676-b61d-fc1ca85a1bcd",
   "metadata": {
    "tags": []
   },
   "outputs": [
    {
     "name": "stdout",
     "output_type": "stream",
     "text": [
      "0.787\n"
     ]
    }
   ],
   "source": [
    "print(accuracy_score(y_true, y_pred))"
   ]
  },
  {
   "cell_type": "markdown",
   "id": "3ae334cd-143b-4da8-96e5-0f597a48f3cd",
   "metadata": {},
   "source": [
    "### TEST SINGOLI"
   ]
  },
  {
   "cell_type": "code",
   "execution_count": 19,
   "id": "315644b3-6ede-42cc-a0dc-825492fbd7a1",
   "metadata": {},
   "outputs": [],
   "source": [
    "def create_spectogram(AUDIO_DIR):\n",
    "    y, sr = librosa.load(AUDIO_DIR)\n",
    "    spect = librosa.feature.melspectrogram(y=y, sr=sr, n_fft=2048, hop_length=1024)\n",
    "    spect = librosa.power_to_db(spect, ref=np.max)\n",
    "    return spect.T"
   ]
  },
  {
   "cell_type": "code",
   "execution_count": 20,
   "id": "dd383d1c-a668-42d9-8a4f-30a068891ba4",
   "metadata": {},
   "outputs": [],
   "source": [
    "def plot_spect(AUDIO_DIR):\n",
    "    spect = create_spectogram(AUDIO_DIR)\n",
    "    print(spect.shape)\n",
    "    plt.figure(figsize=(10, 4))\n",
    "    librosa.display.specshow(spect.T, y_axis='mel', fmax=8000, x_axis='time')\n",
    "    plt.colorbar(format='%+2.0f dB')\n",
    "    plt.show()"
   ]
  },
  {
   "cell_type": "code",
   "execution_count": 85,
   "id": "46fdc88e-5e76-4f2e-a785-a07fc30aa652",
   "metadata": {},
   "outputs": [],
   "source": [
    "#AUDIO_DIR = 'demo/Nirvana - Smells Like Teen Spirit.mp3'\n",
    "#AUDIO_DIR = 'demo/Maroon 5 - She Will Be Loved.mp3'\n",
    "#AUDIO_DIR = 'demo/Giovanni Allevi - Ti Scrivo.mp3'\n",
    "#AUDIO_DIR = 'demo/Zucchero - Vedo nero.mp3'\n",
    "AUDIO_DIR = 'demo/Francesco De Gregori - Buonanotte Fiorellino.mp3'"
   ]
  },
  {
   "cell_type": "code",
   "execution_count": 86,
   "id": "c9d651fb-bdee-499b-88e4-39c70ce17843",
   "metadata": {},
   "outputs": [],
   "source": [
    "spect = create_spectogram(AUDIO_DIR)\n",
    "#spect = spect[:128, :]"
   ]
  },
  {
   "cell_type": "code",
   "execution_count": 87,
   "id": "39f8b01d-b8ca-4e81-a6b5-e9051b4d0266",
   "metadata": {},
   "outputs": [
    {
     "name": "stdout",
     "output_type": "stream",
     "text": [
      "1e-08 1.0 0.0028222431\n"
     ]
    }
   ],
   "source": [
    "spect_raw = librosa.core.db_to_power(spect, ref=1.0)\n",
    "spect = np.log(spect_raw)\n",
    "\n",
    "print(np.amin(spect_raw), np.amax(spect_raw), np.mean(spect_raw))"
   ]
  },
  {
   "cell_type": "code",
   "execution_count": 88,
   "id": "52838f6c-3753-40a0-aac0-9ee504761da4",
   "metadata": {},
   "outputs": [
    {
     "data": {
      "text/plain": [
       "(2734, 128, 1)"
      ]
     },
     "execution_count": 88,
     "metadata": {},
     "output_type": "execute_result"
    }
   ],
   "source": [
    "spect = np.expand_dims(spect, axis = -1)\n",
    "#spect = np.expand_dims(spect, axis = 0)\n",
    "spect.shape"
   ]
  },
  {
   "cell_type": "code",
   "execution_count": 89,
   "id": "c7c76e56-ad84-4953-b56c-0adbc759754e",
   "metadata": {},
   "outputs": [],
   "source": [
    "_arr = []\n",
    "for i in range(spect.shape[0]//128):\n",
    "    frame = spect[128*i:128*(i+1), :]\n",
    "    if frame.shape[0] == 128:\n",
    "        _arr.append(frame)\n",
    "#        print(\"ok\")\n",
    "#    print(str(128*i)+\":\"+str(128*(i+1)))\n",
    "#    print(frame.shape)\n",
    "    \n",
    "_arr = np.array(_arr)"
   ]
  },
  {
   "cell_type": "code",
   "execution_count": 90,
   "id": "f81fca3f-8ffa-4198-bba1-e0162856a5a5",
   "metadata": {},
   "outputs": [
    {
     "data": {
      "text/plain": [
       "(21, 128, 128, 1)"
      ]
     },
     "execution_count": 90,
     "metadata": {},
     "output_type": "execute_result"
    }
   ],
   "source": [
    "_arr.shape"
   ]
  },
  {
   "cell_type": "code",
   "execution_count": 91,
   "id": "e37e5b31-e4fc-44b3-b7c4-8f4f45f1f0d6",
   "metadata": {},
   "outputs": [],
   "source": [
    "y_pred_single = root.predict(_arr)\n",
    "#print(list(dict_genres.keys())[list(dict_genres.values()).index(y_pred_single[0])])"
   ]
  },
  {
   "cell_type": "code",
   "execution_count": 92,
   "id": "171ec472-e59f-47d8-be8d-abe5f6255ca5",
   "metadata": {},
   "outputs": [
    {
     "data": {
      "text/plain": [
       "array([5, 8, 8, 5, 2, 9, 2, 9, 9, 2, 9, 2, 9, 2, 2, 9, 2, 2, 0, 2, 5],\n",
       "      dtype=int64)"
      ]
     },
     "execution_count": 92,
     "metadata": {},
     "output_type": "execute_result"
    }
   ],
   "source": [
    "y_pred_single"
   ]
  },
  {
   "cell_type": "code",
   "execution_count": 93,
   "id": "ad3cc851-725d-4dc9-ac02-fb26b8e6d3ae",
   "metadata": {},
   "outputs": [],
   "source": [
    "result = np.zeros(10, dtype=\"int64\")"
   ]
  },
  {
   "cell_type": "code",
   "execution_count": 94,
   "id": "6d43bdba-f25e-423a-899a-fa047e088769",
   "metadata": {},
   "outputs": [
    {
     "name": "stdout",
     "output_type": "stream",
     "text": [
      "Country\n"
     ]
    }
   ],
   "source": [
    "for i in range(y_pred_single.shape[0]):\n",
    "    prediction = y_pred_single[i]\n",
    "    result[prediction] += 1\n",
    "\n",
    "print(list(dict_genres.keys())[np.argmax(result)])"
   ]
  },
  {
   "cell_type": "code",
   "execution_count": 95,
   "id": "4da88c56-a3c7-4ba9-b62b-2ff34fb8aaa2",
   "metadata": {},
   "outputs": [
    {
     "name": "stdout",
     "output_type": "stream",
     "text": [
      "Blues: 1\n",
      "Classical: 0\n",
      "Country: 9\n",
      "Disco: 0\n",
      "Hip-Hop: 0\n",
      "Jazz: 3\n",
      "Metal: 0\n",
      "Pop: 0\n",
      "Reggae: 2\n",
      "Rock: 6\n"
     ]
    }
   ],
   "source": [
    "for i in range(10):\n",
    "    print(str(list(dict_genres.keys())[i])+\": \"+str(result[i]))\n"
   ]
  },
  {
   "cell_type": "code",
   "execution_count": null,
   "id": "c9341c04-ca33-454e-b70a-f939fcc0aaff",
   "metadata": {},
   "outputs": [],
   "source": []
  },
  {
   "cell_type": "code",
   "execution_count": 42,
   "id": "6e70d5b2-0974-4f6f-a2af-849a5da86789",
   "metadata": {},
   "outputs": [
    {
     "name": "stdout",
     "output_type": "stream",
     "text": [
      "Rock\n",
      "Pop\n"
     ]
    }
   ],
   "source": [
    "i=0\n",
    "\n",
    "print(list(dict_genres.keys())[list(dict_genres.values()).index(y_true[i])])\n",
    "\n",
    "y_pred_single = root.predict(np.array([X_test[i]]))\n",
    "print(list(dict_genres.keys())[list(dict_genres.values()).index(y_pred_single[0])])"
   ]
  },
  {
   "cell_type": "code",
   "execution_count": null,
   "id": "523a11b7-1fd8-4137-95c8-f259d5169e2f",
   "metadata": {},
   "outputs": [],
   "source": []
  },
  {
   "cell_type": "code",
   "execution_count": 21,
   "id": "72b5a4d9-76da-4de6-b403-0d28d7947edb",
   "metadata": {},
   "outputs": [
    {
     "data": {
      "text/plain": [
       "array([0, 1, 0, 0, 0, 0, 0, 0, 0, 0])"
      ]
     },
     "execution_count": 21,
     "metadata": {},
     "output_type": "execute_result"
    }
   ],
   "source": [
    "#dict_genres = {'Blues':0, 'Classical':1, 'Country':2, 'Disco':3, 'Hip-Hop':4, 'Jazz':5, 'Metal':6, 'Pop':7, 'Reggae':8, 'Rock':9}\n",
    "i = 200\n",
    "y_test[i]"
   ]
  },
  {
   "cell_type": "code",
   "execution_count": 22,
   "id": "b8d21ed9-0086-44c9-8a85-8f0640f4f971",
   "metadata": {},
   "outputs": [
    {
     "data": {
      "text/plain": [
       "array([[0.00975109, 0.99024886]], dtype=float32)"
      ]
     },
     "execution_count": 22,
     "metadata": {},
     "output_type": "execute_result"
    }
   ],
   "source": [
    "model_root.predict(np.array([X_test[i]]))"
   ]
  },
  {
   "cell_type": "code",
   "execution_count": null,
   "id": "38b9c869-40fb-4dc4-9897-582a5314f1ef",
   "metadata": {},
   "outputs": [],
   "source": []
  }
 ],
 "metadata": {
  "kernelspec": {
   "display_name": "Python 3 (ipykernel)",
   "language": "python",
   "name": "python3"
  },
  "language_info": {
   "codemirror_mode": {
    "name": "ipython",
    "version": 3
   },
   "file_extension": ".py",
   "mimetype": "text/x-python",
   "name": "python",
   "nbconvert_exporter": "python",
   "pygments_lexer": "ipython3",
   "version": "3.7.11"
  }
 },
 "nbformat": 4,
 "nbformat_minor": 5
}
