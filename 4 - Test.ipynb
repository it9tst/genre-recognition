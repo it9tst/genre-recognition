{
 "cells": [
  {
   "cell_type": "code",
   "execution_count": 1,
   "id": "4be0c361-133a-4950-acec-e753850ced35",
   "metadata": {},
   "outputs": [],
   "source": [
    "import numpy as np\n",
    "import matplotlib.pyplot as plt\n",
    "import tensorflow as tf\n",
    "from tensorflow.keras.models import load_model\n",
    "from sklearn.metrics import classification_report\n",
    "from sklearn.metrics import confusion_matrix\n",
    "import seaborn as sns\n",
    "%matplotlib inline"
   ]
  },
  {
   "cell_type": "code",
   "execution_count": 2,
   "id": "60c6a8ef-5b4b-40b9-9314-fda99e5df4ec",
   "metadata": {},
   "outputs": [
    {
     "name": "stdout",
     "output_type": "stream",
     "text": [
      "GPU found\n"
     ]
    }
   ],
   "source": [
    "from tensorflow.compat.v1 import ConfigProto\n",
    "from tensorflow.compat.v1 import Session\n",
    "\n",
    "config = ConfigProto()\n",
    "config.gpu_options.allow_growth = True\n",
    "sess = Session(config=config)\n",
    "\n",
    "if tf.test.gpu_device_name():\n",
    "    print(\"GPU found\")\n",
    "else:\n",
    "    print(\"No GPU found\")"
   ]
  },
  {
   "cell_type": "markdown",
   "id": "b1e91744-506f-4cf6-aad5-aa60400232da",
   "metadata": {},
   "source": [
    "## Look at the Test Set"
   ]
  },
  {
   "cell_type": "code",
   "execution_count": 3,
   "id": "1ebef1cc-1314-4123-854c-f3bfafb431de",
   "metadata": {},
   "outputs": [],
   "source": [
    "dict_genres = {'Electronic':0, 'Experimental':1, 'Folk':2, 'Hip-Hop':3, 'Instrumental':4,'International':5, 'Pop' :6, 'Rock': 7}"
   ]
  },
  {
   "cell_type": "code",
   "execution_count": 4,
   "id": "203f11e9-2f8a-4ab2-868a-7b4faa4ac3fc",
   "metadata": {},
   "outputs": [],
   "source": [
    "model_root = 'models/model_finals/model_root.h5'\n",
    "model_root_f1 = 'models/model_finals/model_root_f1.h5'\n",
    "model_root_f1_1 = 'models/model_finals/model_root_f1_1.h5'\n",
    "model_root_f1_2 = 'models/model_finals/model_root_f1_2.h5'\n",
    "model_root_f2 = 'models/model_finals/model_root_f2.h5'\n",
    "model_root_f2_1 = 'models/model_finals/model_root_f2_1.h5'\n",
    "model_root_f2_2 = 'models/model_finals/model_root_f2_2.h5'"
   ]
  },
  {
   "cell_type": "code",
   "execution_count": 5,
   "id": "6760b34e-a20d-4d43-8736-c7408518d59d",
   "metadata": {},
   "outputs": [],
   "source": [
    "model_root = load_model(model_root)\n",
    "model_root_f1 = load_model(model_root_f1)\n",
    "model_root_f1_1 = load_model(model_root_f1_1)\n",
    "model_root_f1_2 = load_model(model_root_f1_2)\n",
    "model_root_f2 = load_model(model_root_f2)\n",
    "model_root_f2_1 = load_model(model_root_f2_1)\n",
    "model_root_f2_2 = load_model(model_root_f2_2)"
   ]
  },
  {
   "cell_type": "code",
   "execution_count": 6,
   "id": "10e33306-dfe7-4836-a70e-b5f74bba0f45",
   "metadata": {},
   "outputs": [
    {
     "name": "stdout",
     "output_type": "stream",
     "text": [
      "['arr_0', 'arr_1']\n",
      "(800, 640, 128) (800,)\n"
     ]
    }
   ],
   "source": [
    "npzfile = np.load('data/test_arr.npz')\n",
    "print(npzfile.files)\n",
    "\n",
    "X_test = npzfile['arr_0']\n",
    "y_test = npzfile['arr_1']\n",
    "print(X_test.shape, y_test.shape)"
   ]
  },
  {
   "cell_type": "code",
   "execution_count": 7,
   "id": "597b6b75-4f35-46f9-b668-690054dcf5b4",
   "metadata": {},
   "outputs": [
    {
     "name": "stdout",
     "output_type": "stream",
     "text": [
      "0 7 3.5\n"
     ]
    }
   ],
   "source": [
    "y_test -= 1\n",
    "print(np.amin(y_test), np.amax(y_test), np.mean(y_test))"
   ]
  },
  {
   "cell_type": "code",
   "execution_count": 9,
   "id": "a9b60e16-f20c-408d-939d-b51ec249d81a",
   "metadata": {},
   "outputs": [],
   "source": [
    "X_test = np.expand_dims(X_test, axis = -1)"
   ]
  },
  {
   "cell_type": "code",
   "execution_count": 10,
   "id": "6e630b22-8125-4087-96fd-21eedbe1bffc",
   "metadata": {},
   "outputs": [
    {
     "name": "stdout",
     "output_type": "stream",
     "text": [
      "(800, 640, 128, 1) (800,)\n"
     ]
    }
   ],
   "source": [
    "print(X_test.shape, y_test.shape)"
   ]
  },
  {
   "cell_type": "code",
   "execution_count": 17,
   "id": "80a019cd-2c05-4373-a48f-f169fa00bbcc",
   "metadata": {},
   "outputs": [
    {
     "data": {
      "text/plain": [
       "5"
      ]
     },
     "execution_count": 17,
     "metadata": {},
     "output_type": "execute_result"
    }
   ],
   "source": [
    "y_test[1]"
   ]
  },
  {
   "cell_type": "code",
   "execution_count": 23,
   "id": "2f067be8-7aa9-40fc-bff1-a83956dc2444",
   "metadata": {},
   "outputs": [],
   "source": [
    "y_pred = model_root_f2_2.predict(np.array([X_test[1]]))"
   ]
  },
  {
   "cell_type": "code",
   "execution_count": 24,
   "id": "b2b4249b-81e7-4ed9-a83f-2e2720717917",
   "metadata": {},
   "outputs": [
    {
     "data": {
      "text/plain": [
       "array([[0.00413541, 0.9958646 ]], dtype=float32)"
      ]
     },
     "execution_count": 24,
     "metadata": {},
     "output_type": "execute_result"
    }
   ],
   "source": [
    "y_pred"
   ]
  },
  {
   "cell_type": "code",
   "execution_count": null,
   "id": "72b5a4d9-76da-4de6-b403-0d28d7947edb",
   "metadata": {},
   "outputs": [],
   "source": []
  },
  {
   "cell_type": "code",
   "execution_count": null,
   "id": "b8d21ed9-0086-44c9-8a85-8f0640f4f971",
   "metadata": {},
   "outputs": [],
   "source": []
  },
  {
   "cell_type": "code",
   "execution_count": null,
   "id": "d0a95b01-9fb9-4be9-87d9-4a2979bcc0b9",
   "metadata": {},
   "outputs": [],
   "source": []
  },
  {
   "cell_type": "code",
   "execution_count": null,
   "id": "cc4ae5d0-211a-4f9f-b6a9-10f241090344",
   "metadata": {},
   "outputs": [],
   "source": []
  },
  {
   "cell_type": "code",
   "execution_count": null,
   "id": "aa65b821-5018-446f-9198-11fa88f3b048",
   "metadata": {},
   "outputs": [],
   "source": [
    "Class ModelTree\n",
    "    (model_root)"
   ]
  },
  {
   "cell_type": "code",
   "execution_count": null,
   "id": "c22af2a7-59f6-4a9d-bc37-03535068e0ef",
   "metadata": {},
   "outputs": [],
   "source": [
    "Class ModelNodeTree\n",
    "    (modello, destra, sinistra)"
   ]
  },
  {
   "cell_type": "code",
   "execution_count": null,
   "id": "75341be4-851c-43f6-ba55-8a8e38beabce",
   "metadata": {},
   "outputs": [],
   "source": []
  },
  {
   "cell_type": "code",
   "execution_count": null,
   "id": "3335fec3-1a90-4700-a0af-054b67d59946",
   "metadata": {},
   "outputs": [],
   "source": [
    "y_pred = model_root.predict(X_test)\n",
    "\n",
    "y_pred = np.argmax(y_pred, axis=1)\n",
    "labels = [0,1]\n",
    "target_names = dict_genres.keys()\n",
    "\n",
    "print(y_true.shape, y_pred.shape)\n",
    "print(classification_report(y_true, y_pred, target_names=['Hip-Hop', 'Others']))"
   ]
  },
  {
   "cell_type": "code",
   "execution_count": null,
   "id": "074dc0ef-aa4c-4733-8921-f46776170e56",
   "metadata": {},
   "outputs": [],
   "source": [
    "mat = confusion_matrix(y_true, y_pred)\n",
    "sns.heatmap(mat.T, square=True, annot=True, fmt='d', cbar=False, xticklabels=dict_genres.keys(), yticklabels=dict_genres.keys())\n",
    "plt.xlabel('true label')\n",
    "plt.ylabel('predicted label')"
   ]
  },
  {
   "cell_type": "code",
   "execution_count": null,
   "id": "09e4308f-9dba-4fc4-9ccb-7d81f6a0bfaf",
   "metadata": {},
   "outputs": [],
   "source": []
  },
  {
   "cell_type": "code",
   "execution_count": null,
   "id": "b58dbd4f-75bd-49d8-ac9d-1038b902258d",
   "metadata": {},
   "outputs": [],
   "source": []
  },
  {
   "cell_type": "code",
   "execution_count": null,
   "id": "3321a7ef-6493-479c-81de-f63b962c5040",
   "metadata": {},
   "outputs": [],
   "source": []
  }
 ],
 "metadata": {
  "kernelspec": {
   "display_name": "Python 3 (ipykernel)",
   "language": "python",
   "name": "python3"
  },
  "language_info": {
   "codemirror_mode": {
    "name": "ipython",
    "version": 3
   },
   "file_extension": ".py",
   "mimetype": "text/x-python",
   "name": "python",
   "nbconvert_exporter": "python",
   "pygments_lexer": "ipython3",
   "version": "3.7.11"
  }
 },
 "nbformat": 4,
 "nbformat_minor": 5
}
