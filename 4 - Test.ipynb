{
 "cells": [
  {
   "cell_type": "code",
   "execution_count": 1,
   "id": "4be0c361-133a-4950-acec-e753850ced35",
   "metadata": {},
   "outputs": [],
   "source": [
    "import numpy as np\n",
    "import matplotlib.pyplot as plt\n",
    "import tensorflow as tf\n",
    "from tensorflow.keras.models import load_model\n",
    "from sklearn.metrics import classification_report\n",
    "from sklearn.metrics import confusion_matrix\n",
    "import seaborn as sns\n",
    "%matplotlib inline"
   ]
  },
  {
   "cell_type": "code",
   "execution_count": 2,
   "id": "60c6a8ef-5b4b-40b9-9314-fda99e5df4ec",
   "metadata": {},
   "outputs": [
    {
     "name": "stdout",
     "output_type": "stream",
     "text": [
      "GPU found\n"
     ]
    }
   ],
   "source": [
    "from tensorflow.compat.v1 import ConfigProto\n",
    "from tensorflow.compat.v1 import Session\n",
    "\n",
    "config = ConfigProto()\n",
    "config.gpu_options.allow_growth = True\n",
    "sess = Session(config=config)\n",
    "\n",
    "if tf.test.gpu_device_name():\n",
    "    print(\"GPU found\")\n",
    "else:\n",
    "    print(\"No GPU found\")"
   ]
  },
  {
   "cell_type": "markdown",
   "id": "b1e91744-506f-4cf6-aad5-aa60400232da",
   "metadata": {},
   "source": [
    "## Look at the Test Set"
   ]
  },
  {
   "cell_type": "code",
   "execution_count": 3,
   "id": "1ebef1cc-1314-4123-854c-f3bfafb431de",
   "metadata": {},
   "outputs": [],
   "source": [
    "dict_genres = {'Electronic':0, 'Experimental':1, 'Folk':2, 'Hip-Hop':3, 'Instrumental':4,'International':5, 'Pop' :6, 'Rock': 7}"
   ]
  },
  {
   "cell_type": "code",
   "execution_count": 4,
   "id": "6760b34e-a20d-4d43-8736-c7408518d59d",
   "metadata": {},
   "outputs": [],
   "source": [
    "model_root = load_model('models/model_finals/model_root.h5')\n",
    "model_root_f1 = load_model('models/model_finals/model_root_f1.h5')\n",
    "model_root_f1_1 = load_model('models/model_finals/model_root_f1_1.h5')\n",
    "model_root_f1_2 = load_model('models/model_finals/model_root_f1_2.h5')\n",
    "model_root_f2 = load_model('models/model_finals/model_root_f2.h5')\n",
    "model_root_f2_1 = load_model('models/model_finals/model_root_f2_1.h5')\n",
    "model_root_f2_2 = load_model('models/model_finals/model_root_f2_2.h5')"
   ]
  },
  {
   "cell_type": "code",
   "execution_count": 5,
   "id": "10e33306-dfe7-4836-a70e-b5f74bba0f45",
   "metadata": {},
   "outputs": [
    {
     "name": "stdout",
     "output_type": "stream",
     "text": [
      "['arr_0', 'arr_1']\n",
      "(800, 640, 128) (800,)\n"
     ]
    }
   ],
   "source": [
    "npzfile = np.load('data/test_arr.npz')\n",
    "print(npzfile.files)\n",
    "\n",
    "X_test = npzfile['arr_0']\n",
    "y_test = npzfile['arr_1']\n",
    "print(X_test.shape, y_test.shape)"
   ]
  },
  {
   "cell_type": "code",
   "execution_count": 6,
   "id": "597b6b75-4f35-46f9-b668-690054dcf5b4",
   "metadata": {},
   "outputs": [
    {
     "name": "stdout",
     "output_type": "stream",
     "text": [
      "0 7 3.5\n"
     ]
    }
   ],
   "source": [
    "y_test -= 1\n",
    "print(np.amin(y_test), np.amax(y_test), np.mean(y_test))"
   ]
  },
  {
   "cell_type": "code",
   "execution_count": 7,
   "id": "0767e9ec-1d50-4a4d-82ac-ba08598083d5",
   "metadata": {},
   "outputs": [],
   "source": [
    "y_true = y_test"
   ]
  },
  {
   "cell_type": "code",
   "execution_count": 8,
   "id": "a9b60e16-f20c-408d-939d-b51ec249d81a",
   "metadata": {},
   "outputs": [],
   "source": [
    "X_test = np.expand_dims(X_test, axis = -1)"
   ]
  },
  {
   "cell_type": "code",
   "execution_count": 9,
   "id": "6e630b22-8125-4087-96fd-21eedbe1bffc",
   "metadata": {},
   "outputs": [
    {
     "name": "stdout",
     "output_type": "stream",
     "text": [
      "(800, 640, 128, 1) (800,) (800,)\n"
     ]
    }
   ],
   "source": [
    "print(X_test.shape, y_test.shape, y_true.shape)"
   ]
  },
  {
   "cell_type": "code",
   "execution_count": 10,
   "id": "d2decd96-4be0-4a61-8566-6410e8df4d90",
   "metadata": {},
   "outputs": [],
   "source": [
    "class ModelNodeTree:\n",
    "    def __init__(self, X_test):\n",
    "        self.X_test = X_test\n",
    "    \n",
    "    def node_0(self):\n",
    "        y_pred = model_root.predict(self.X_test)\n",
    "        direction = np.argmax(y_pred)\n",
    "        return direction\n",
    "\n",
    "    def node_1(self):\n",
    "        y_pred = model_root_f1.predict(self.X_test)\n",
    "        direction = np.argmax(y_pred)\n",
    "        return direction\n",
    "\n",
    "    def node_2(self):\n",
    "        y_pred = model_root_f2.predict(self.X_test)\n",
    "        direction = np.argmax(y_pred)\n",
    "        return direction\n",
    "\n",
    "    def node_3(self):\n",
    "        y_pred = model_root_f1_1.predict(self.X_test)\n",
    "        direction = np.argmax(y_pred)\n",
    "        return direction\n",
    "\n",
    "    def node_4(self):\n",
    "        y_pred = model_root_f1_2.predict(self.X_test)\n",
    "        direction = np.argmax(y_pred)\n",
    "        return direction\n",
    "\n",
    "    def node_5(self):\n",
    "        y_pred = model_root_f2_1.predict(self.X_test)\n",
    "        direction = np.argmax(y_pred)\n",
    "        return direction\n",
    "\n",
    "    def node_6(self):\n",
    "        y_pred = model_root_f2_2.predict(self.X_test)\n",
    "        direction = np.argmax(y_pred)\n",
    "        return direction"
   ]
  },
  {
   "cell_type": "code",
   "execution_count": 11,
   "id": "8cab8045-9b04-45cc-a621-5eb741946b53",
   "metadata": {},
   "outputs": [],
   "source": [
    "def modelTree(X_test):\n",
    "    count = 0\n",
    "    f1 = False\n",
    "    f2 = False\n",
    "    predict = ModelNodeTree(X_test)\n",
    "    \n",
    "    for i in range(3):\n",
    "        if i == 0:\n",
    "            direction = predict.node_0()\n",
    "        elif i == 1:\n",
    "            if direction == 0:\n",
    "                direction = predict.node_1()\n",
    "                f1 = True\n",
    "            else:\n",
    "                direction = predict.node_2()\n",
    "                f2 = True\n",
    "        elif i == 2 and f1:\n",
    "            if direction == 0:\n",
    "                direction = predict.node_3()\n",
    "                if direction == 0:\n",
    "                    return(\"Pop\")\n",
    "                else:\n",
    "                    return(\"Rock\")\n",
    "            else:\n",
    "                direction = predict.node_4()\n",
    "                if direction == 0:\n",
    "                    return(\"Folk\")\n",
    "                else:\n",
    "                    return(\"Instrumental\")\n",
    "        elif i == 2 and f2:\n",
    "            if direction == 0:\n",
    "                direction = predict.node_5()\n",
    "                if direction == 0:\n",
    "                    return(\"Hip-Hop\")\n",
    "                else:\n",
    "                    return(\"Electronic\")\n",
    "            else:\n",
    "                direction = predict.node_6()\n",
    "                if direction == 0:\n",
    "                    return(\"Experimental\")\n",
    "                else:\n",
    "                    return(\"International\")\n",
    "        else:\n",
    "            print(\"Error\")\n",
    "        count += 1"
   ]
  },
  {
   "cell_type": "code",
   "execution_count": 12,
   "id": "80a019cd-2c05-4373-a48f-f169fa00bbcc",
   "metadata": {},
   "outputs": [
    {
     "name": "stdout",
     "output_type": "stream",
     "text": [
      "WARNING:tensorflow:5 out of the last 6 calls to <function Model.make_predict_function.<locals>.predict_function at 0x0000013A1401D1F8> triggered tf.function retracing. Tracing is expensive and the excessive number of tracings could be due to (1) creating @tf.function repeatedly in a loop, (2) passing tensors with different shapes, (3) passing Python objects instead of tensors. For (1), please define your @tf.function outside of the loop. For (2), @tf.function has experimental_relax_shapes=True option that relaxes argument shapes that can avoid unnecessary retracing. For (3), please refer to https://www.tensorflow.org/guide/function#controlling_retracing and https://www.tensorflow.org/api_docs/python/tf/function for  more details.\n",
      "WARNING:tensorflow:6 out of the last 9 calls to <function Model.make_predict_function.<locals>.predict_function at 0x0000013A087E63A8> triggered tf.function retracing. Tracing is expensive and the excessive number of tracings could be due to (1) creating @tf.function repeatedly in a loop, (2) passing tensors with different shapes, (3) passing Python objects instead of tensors. For (1), please define your @tf.function outside of the loop. For (2), @tf.function has experimental_relax_shapes=True option that relaxes argument shapes that can avoid unnecessary retracing. For (3), please refer to https://www.tensorflow.org/guide/function#controlling_retracing and https://www.tensorflow.org/api_docs/python/tf/function for  more details.\n"
     ]
    }
   ],
   "source": [
    "y_pred = []\n",
    "\n",
    "for i in range(X_test.shape[0]):\n",
    "    y_pred.append(dict_genres[modelTree(np.array([X_test[i]]))])\n",
    "\n",
    "y_pred = np.array(y_pred)"
   ]
  },
  {
   "cell_type": "code",
   "execution_count": 13,
   "id": "bf9b6ca1-9eff-41e0-b2a9-4d41332f3ddb",
   "metadata": {},
   "outputs": [
    {
     "name": "stdout",
     "output_type": "stream",
     "text": [
      "(800,) (800,)\n",
      "               precision    recall  f1-score   support\n",
      "\n",
      "   Electronic       0.52      0.33      0.40       100\n",
      " Experimental       0.34      0.30      0.32       100\n",
      "         Folk       0.20      0.40      0.26       100\n",
      "      Hip-Hop       0.53      0.83      0.65       100\n",
      " Instrumental       0.23      0.39      0.29       100\n",
      "International       0.34      0.33      0.33       100\n",
      "          Pop       0.18      0.04      0.07       100\n",
      "         Rock       1.00      0.01      0.02       100\n",
      "\n",
      "     accuracy                           0.33       800\n",
      "    macro avg       0.42      0.33      0.29       800\n",
      " weighted avg       0.42      0.33      0.29       800\n",
      "\n"
     ]
    }
   ],
   "source": [
    "target_names = dict_genres.keys()\n",
    "\n",
    "print(y_true.shape, y_pred.shape)\n",
    "print(classification_report(y_true, y_pred, target_names=target_names))"
   ]
  },
  {
   "cell_type": "code",
   "execution_count": 14,
   "id": "074dc0ef-aa4c-4733-8921-f46776170e56",
   "metadata": {},
   "outputs": [
    {
     "data": {
      "text/plain": [
       "Text(91.68, 0.5, 'predicted label')"
      ]
     },
     "execution_count": 14,
     "metadata": {},
     "output_type": "execute_result"
    },
    {
     "data": {
      "image/png": "[encoded data removed]",
      "text/plain": [
       "<Figure size 432x288 with 1 Axes>"
      ]
     },
     "metadata": {
      "needs_background": "light"
     },
     "output_type": "display_data"
    }
   ],
   "source": [
    "mat = confusion_matrix(y_true, y_pred)\n",
    "sns.heatmap(mat.T, square=True, annot=True, fmt='d', cbar=False, xticklabels=dict_genres.keys(), yticklabels=dict_genres.keys())\n",
    "plt.xlabel('true label')\n",
    "plt.ylabel('predicted label')"
   ]
  },
  {
   "cell_type": "markdown",
   "id": "3ae334cd-143b-4da8-96e5-0f597a48f3cd",
   "metadata": {},
   "source": [
    "#### TEST"
   ]
  },
  {
   "cell_type": "code",
   "execution_count": null,
   "id": "72b5a4d9-76da-4de6-b403-0d28d7947edb",
   "metadata": {},
   "outputs": [],
   "source": [
    "y_test[0]"
   ]
  },
  {
   "cell_type": "code",
   "execution_count": null,
   "id": "b8d21ed9-0086-44c9-8a85-8f0640f4f971",
   "metadata": {},
   "outputs": [],
   "source": [
    "y_pred_prova = model_root.predict(X_test)"
   ]
  },
  {
   "cell_type": "code",
   "execution_count": null,
   "id": "21a419bb-6948-44f0-a984-2f42ca54bdef",
   "metadata": {},
   "outputs": [],
   "source": [
    "y_pred_prova[0]"
   ]
  },
  {
   "cell_type": "code",
   "execution_count": null,
   "id": "d0a95b01-9fb9-4be9-87d9-4a2979bcc0b9",
   "metadata": {},
   "outputs": [],
   "source": []
  }
 ],
 "metadata": {
  "kernelspec": {
   "display_name": "Python 3 (ipykernel)",
   "language": "python",
   "name": "python3"
  },
  "language_info": {
   "codemirror_mode": {
    "name": "ipython",
    "version": 3
   },
   "file_extension": ".py",
   "mimetype": "text/x-python",
   "name": "python",
   "nbconvert_exporter": "python",
   "pygments_lexer": "ipython3",
   "version": "3.7.11"
  }
 },
 "nbformat": 4,
 "nbformat_minor": 5
}
