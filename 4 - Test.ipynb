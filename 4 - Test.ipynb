{
 "cells": [
  {
   "cell_type": "code",
   "execution_count": 1,
   "id": "4be0c361-133a-4950-acec-e753850ced35",
   "metadata": {},
   "outputs": [],
   "source": [
    "import numpy as np\n",
    "import matplotlib.pyplot as plt\n",
    "import tensorflow as tf\n",
    "from tensorflow.keras.models import load_model\n",
    "from sklearn.metrics import classification_report\n",
    "from sklearn.metrics import confusion_matrix\n",
    "from sklearn.metrics import accuracy_score\n",
    "import seaborn as sns\n",
    "import librosa\n",
    "%matplotlib inline"
   ]
  },
  {
   "cell_type": "code",
   "execution_count": 2,
   "id": "60c6a8ef-5b4b-40b9-9314-fda99e5df4ec",
   "metadata": {},
   "outputs": [
    {
     "name": "stdout",
     "output_type": "stream",
     "text": [
      "GPU found\n"
     ]
    }
   ],
   "source": [
    "from tensorflow.compat.v1 import ConfigProto\n",
    "from tensorflow.compat.v1 import Session\n",
    "\n",
    "config = ConfigProto()\n",
    "config.gpu_options.allow_growth = True\n",
    "sess = Session(config=config)\n",
    "\n",
    "if tf.test.gpu_device_name():\n",
    "    print(\"GPU found\")\n",
    "else:\n",
    "    print(\"No GPU found\")"
   ]
  },
  {
   "cell_type": "markdown",
   "id": "b1e91744-506f-4cf6-aad5-aa60400232da",
   "metadata": {},
   "source": [
    "## Look at the Test Set"
   ]
  },
  {
   "cell_type": "code",
   "execution_count": 3,
   "id": "1ebef1cc-1314-4123-854c-f3bfafb431de",
   "metadata": {},
   "outputs": [],
   "source": [
    "dict_genres = {'Electronic':0, 'Experimental':1, 'Folk':2, 'Hip-Hop':3, 'Instrumental':4,'International':5, 'Pop' :6, 'Rock': 7}"
   ]
  },
  {
   "cell_type": "code",
   "execution_count": 4,
   "id": "6760b34e-a20d-4d43-8736-c7408518d59d",
   "metadata": {},
   "outputs": [],
   "source": [
    "model_root = load_model('models/model_finals/model_root.h5')\n",
    "model_root_f1 = load_model('models/model_finals/model_root_f1.h5')\n",
    "model_root_f1_1 = load_model('models/model_finals/model_root_f1_1.h5')\n",
    "model_root_f1_2 = load_model('models/model_finals/model_root_f1_2.h5')\n",
    "model_root_f2 = load_model('models/model_finals/model_root_f2.h5')\n",
    "model_root_f2_1 = load_model('models/model_finals/model_root_f2_1.h5')\n",
    "model_root_f2_2 = load_model('models/model_finals/model_root_f2_2.h5')"
   ]
  },
  {
   "cell_type": "code",
   "execution_count": 5,
   "id": "10e33306-dfe7-4836-a70e-b5f74bba0f45",
   "metadata": {},
   "outputs": [
    {
     "name": "stdout",
     "output_type": "stream",
     "text": [
      "['arr_0', 'arr_1']\n",
      "(800, 640, 128) (800,)\n"
     ]
    }
   ],
   "source": [
    "npzfile = np.load('data/test_arr.npz')\n",
    "print(npzfile.files)\n",
    "\n",
    "X_test = npzfile['arr_0']\n",
    "y_test = npzfile['arr_1']\n",
    "print(X_test.shape, y_test.shape)"
   ]
  },
  {
   "cell_type": "code",
   "execution_count": 6,
   "id": "597b6b75-4f35-46f9-b668-690054dcf5b4",
   "metadata": {},
   "outputs": [
    {
     "name": "stdout",
     "output_type": "stream",
     "text": [
      "0 7 3.5\n"
     ]
    }
   ],
   "source": [
    "y_test -= 1\n",
    "print(np.amin(y_test), np.amax(y_test), np.mean(y_test))"
   ]
  },
  {
   "cell_type": "code",
   "execution_count": 7,
   "id": "0767e9ec-1d50-4a4d-82ac-ba08598083d5",
   "metadata": {},
   "outputs": [],
   "source": [
    "y_true = y_test\n",
    "#y_true = y_true[np.in1d(y_true, [1,5])]\n",
    "#y_true_binary = np.invert(np.in1d(y_true, [1,5]))*1"
   ]
  },
  {
   "cell_type": "code",
   "execution_count": 8,
   "id": "5ffc5bd1-a587-4188-b6d8-f93e0372c94e",
   "metadata": {},
   "outputs": [
    {
     "name": "stdout",
     "output_type": "stream",
     "text": [
      "1e-08 1.0000008783668917 0.0046238130656683\n"
     ]
    }
   ],
   "source": [
    "X_test_raw = librosa.core.db_to_power(X_test, ref=1.0)\n",
    "X_test = np.log(X_test_raw)\n",
    "\n",
    "print(np.amin(X_test_raw), np.amax(X_test_raw), np.mean(X_test_raw))"
   ]
  },
  {
   "cell_type": "code",
   "execution_count": 9,
   "id": "a9b60e16-f20c-408d-939d-b51ec249d81a",
   "metadata": {},
   "outputs": [],
   "source": [
    "X_test = np.expand_dims(X_test, axis = -1)"
   ]
  },
  {
   "cell_type": "code",
   "execution_count": 10,
   "id": "6e630b22-8125-4087-96fd-21eedbe1bffc",
   "metadata": {},
   "outputs": [
    {
     "name": "stdout",
     "output_type": "stream",
     "text": [
      "(800, 640, 128, 1) (800,) (800,)\n"
     ]
    }
   ],
   "source": [
    "print(X_test.shape, y_test.shape, y_true.shape)"
   ]
  },
  {
   "cell_type": "code",
   "execution_count": 11,
   "id": "ba4fea5c-a651-4f68-b389-04f51804ba06",
   "metadata": {},
   "outputs": [],
   "source": [
    "class ModelNodeTree():\n",
    "    def __init__(self, model, left, right):\n",
    "        self._model = model\n",
    "        self._left = left\n",
    "        self._right = right\n",
    "        \n",
    "    def predict(self, batch):\n",
    "        y = self._model.predict(batch)\n",
    "        y = np.argmax(y, axis=1)\n",
    "        \n",
    "        if np.sum(y == 0) > 0:\n",
    "            if type(self._left) == int:\n",
    "                y[y == 0] = self._left\n",
    "            else:\n",
    "                y[y == 0] = self._left.predict(batch[y == 0])\n",
    "        \n",
    "        if np.sum(y == 1) > 0:\n",
    "            if type(self._right) == int:\n",
    "                y[y == 1] = self._right\n",
    "            else:\n",
    "                y[y == 1] = self._right.predict(batch[y == 1])\n",
    "        \n",
    "        return y"
   ]
  },
  {
   "cell_type": "code",
   "execution_count": 12,
   "id": "0d2f60f9-a45b-493c-9732-394351ee6539",
   "metadata": {},
   "outputs": [],
   "source": [
    "f1_1 = ModelNodeTree(model_root_f1_1, 6, 7)\n",
    "f1_2 = ModelNodeTree(model_root_f1_2, 2, 4)\n",
    "f1 = ModelNodeTree(model_root_f1, f1_1, f1_2)\n",
    "\n",
    "f2_1 = ModelNodeTree(model_root_f2_1, 3, 0)\n",
    "f2_2 = ModelNodeTree(model_root_f2_2, 1, 5)\n",
    "f2 = ModelNodeTree(model_root_f2, f2_1, f2_2)\n",
    "\n",
    "root = ModelNodeTree(model_root, f1, f2)"
   ]
  },
  {
   "cell_type": "code",
   "execution_count": 13,
   "id": "044f33cf-8fc7-4a14-9e39-3720eabd4095",
   "metadata": {},
   "outputs": [],
   "source": [
    "y_pred = root.predict(X_test)"
   ]
  },
  {
   "cell_type": "code",
   "execution_count": 14,
   "id": "add3c302-f8bb-4f5f-a23a-641d321825bb",
   "metadata": {},
   "outputs": [],
   "source": [
    "#X_test = X_test[np.in1d(y_test, [1,5])]\n",
    "#y_pred = np.argmax(model_root.predict(X_test), axis=1)"
   ]
  },
  {
   "cell_type": "code",
   "execution_count": 17,
   "id": "bf9b6ca1-9eff-41e0-b2a9-4d41332f3ddb",
   "metadata": {},
   "outputs": [
    {
     "name": "stdout",
     "output_type": "stream",
     "text": [
      "(800,) (800,)\n",
      "               precision    recall  f1-score   support\n",
      "\n",
      "   Electronic       0.45      0.42      0.43       100\n",
      " Experimental       0.00      0.00      0.00       100\n",
      "         Folk       0.22      0.21      0.22       100\n",
      "      Hip-Hop       0.65      0.76      0.70       100\n",
      " Instrumental       0.40      0.30      0.34       100\n",
      "International       0.19      0.35      0.24       100\n",
      "          Pop       0.22      0.35      0.27       100\n",
      "         Rock       0.58      0.44      0.50       100\n",
      "\n",
      "     accuracy                           0.35       800\n",
      "    macro avg       0.34      0.35      0.34       800\n",
      " weighted avg       0.34      0.35      0.34       800\n",
      "\n"
     ]
    },
    {
     "name": "stderr",
     "output_type": "stream",
     "text": [
      "C:\\Users\\Gabriele\\anaconda3\\envs\\music-genre-recognition\\lib\\site-packages\\sklearn\\metrics\\_classification.py:1308: UndefinedMetricWarning: Precision and F-score are ill-defined and being set to 0.0 in labels with no predicted samples. Use `zero_division` parameter to control this behavior.\n",
      "  _warn_prf(average, modifier, msg_start, len(result))\n",
      "C:\\Users\\Gabriele\\anaconda3\\envs\\music-genre-recognition\\lib\\site-packages\\sklearn\\metrics\\_classification.py:1308: UndefinedMetricWarning: Precision and F-score are ill-defined and being set to 0.0 in labels with no predicted samples. Use `zero_division` parameter to control this behavior.\n",
      "  _warn_prf(average, modifier, msg_start, len(result))\n",
      "C:\\Users\\Gabriele\\anaconda3\\envs\\music-genre-recognition\\lib\\site-packages\\sklearn\\metrics\\_classification.py:1308: UndefinedMetricWarning: Precision and F-score are ill-defined and being set to 0.0 in labels with no predicted samples. Use `zero_division` parameter to control this behavior.\n",
      "  _warn_prf(average, modifier, msg_start, len(result))\n"
     ]
    }
   ],
   "source": [
    "labels = [\"0\",\"1\"]\n",
    "target_names = dict_genres.keys()\n",
    "\n",
    "print(y_true.shape, y_pred.shape)\n",
    "print(classification_report(y_true, y_pred, target_names=target_names))"
   ]
  },
  {
   "cell_type": "code",
   "execution_count": 18,
   "id": "074dc0ef-aa4c-4733-8921-f46776170e56",
   "metadata": {},
   "outputs": [
    {
     "data": {
      "text/plain": [
       "Text(91.68, 0.5, 'predicted label')"
      ]
     },
     "execution_count": 18,
     "metadata": {},
     "output_type": "execute_result"
    },
    {
     "data": {
      "image/png": "[encoded data removed]",
      "text/plain": [
       "<Figure size 432x288 with 1 Axes>"
      ]
     },
     "metadata": {
      "needs_background": "light"
     },
     "output_type": "display_data"
    }
   ],
   "source": [
    "labels = [0,1]\n",
    "mat = confusion_matrix(y_true, y_pred)\n",
    "sns.heatmap(mat.T, square=True, annot=True, fmt='d', cbar=False, xticklabels=target_names, yticklabels=target_names)\n",
    "plt.xlabel('true label')\n",
    "plt.ylabel('predicted label')"
   ]
  },
  {
   "cell_type": "code",
   "execution_count": 19,
   "id": "f27a2bf0-6ddb-4676-b61d-fc1ca85a1bcd",
   "metadata": {},
   "outputs": [
    {
     "name": "stdout",
     "output_type": "stream",
     "text": [
      "0.35375\n"
     ]
    }
   ],
   "source": [
    "print(accuracy_score(y_true, y_pred))"
   ]
  },
  {
   "cell_type": "markdown",
   "id": "3ae334cd-143b-4da8-96e5-0f597a48f3cd",
   "metadata": {},
   "source": [
    "#### TEST"
   ]
  },
  {
   "cell_type": "code",
   "execution_count": 42,
   "id": "6e70d5b2-0974-4f6f-a2af-849a5da86789",
   "metadata": {},
   "outputs": [
    {
     "name": "stdout",
     "output_type": "stream",
     "text": [
      "Rock\n",
      "Pop\n"
     ]
    }
   ],
   "source": [
    "i=0\n",
    "\n",
    "print(list(dict_genres.keys())[list(dict_genres.values()).index(y_true[i])])\n",
    "\n",
    "y_pred_single = root.predict(np.array([X_test[i]]))\n",
    "print(list(dict_genres.keys())[list(dict_genres.values()).index(y_pred_single[0])])"
   ]
  },
  {
   "cell_type": "code",
   "execution_count": null,
   "id": "523a11b7-1fd8-4137-95c8-f259d5169e2f",
   "metadata": {},
   "outputs": [],
   "source": []
  },
  {
   "cell_type": "code",
   "execution_count": null,
   "id": "72b5a4d9-76da-4de6-b403-0d28d7947edb",
   "metadata": {},
   "outputs": [],
   "source": [
    "#dict_genres = {'Electronic':0, 'Experimental':1, 'Folk':2, 'Hip-Hop':3, 'Instrumental':4,'International':5, 'Pop' :6, 'Rock': 7}\n",
    "i = 10\n",
    "y_test[i]"
   ]
  },
  {
   "cell_type": "code",
   "execution_count": null,
   "id": "b8d21ed9-0086-44c9-8a85-8f0640f4f971",
   "metadata": {},
   "outputs": [],
   "source": [
    "model_root.predict(np.array([X_test[i]]))"
   ]
  },
  {
   "cell_type": "code",
   "execution_count": null,
   "id": "38b9c869-40fb-4dc4-9897-582a5314f1ef",
   "metadata": {},
   "outputs": [],
   "source": []
  }
 ],
 "metadata": {
  "kernelspec": {
   "display_name": "Python 3 (ipykernel)",
   "language": "python",
   "name": "python3"
  },
  "language_info": {
   "codemirror_mode": {
    "name": "ipython",
    "version": 3
   },
   "file_extension": ".py",
   "mimetype": "text/x-python",
   "name": "python",
   "nbconvert_exporter": "python",
   "pygments_lexer": "ipython3",
   "version": "3.7.11"
  }
 },
 "nbformat": 4,
 "nbformat_minor": 5
}
