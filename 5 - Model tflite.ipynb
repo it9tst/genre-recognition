{
 "cells": [
  {
   "cell_type": "code",
   "execution_count": 1,
   "id": "eb826de0-7c3b-402f-96b0-84201eecc621",
   "metadata": {},
   "outputs": [],
   "source": [
    "from tensorflow import lite\n",
    "from tensorflow.keras.models import load_model"
   ]
  },
  {
   "cell_type": "markdown",
   "id": "48678d51-9437-4a7a-a98a-f5f3381bae46",
   "metadata": {},
   "source": [
    "## Load model .h5 and convert in .tflite"
   ]
  },
  {
   "cell_type": "code",
   "execution_count": 3,
   "id": "c073dd23-0212-4822-a909-79163d359694",
   "metadata": {},
   "outputs": [
    {
     "name": "stdout",
     "output_type": "stream",
     "text": [
      "INFO:tensorflow:Assets written to: C:\\Users\\Gabriele\\AppData\\Local\\Temp\\tmpd4r5z6bd\\assets\n"
     ]
    },
    {
     "name": "stderr",
     "output_type": "stream",
     "text": [
      "INFO:tensorflow:Assets written to: C:\\Users\\Gabriele\\AppData\\Local\\Temp\\tmpd4r5z6bd\\assets\n"
     ]
    },
    {
     "data": {
      "text/plain": [
       "2883528"
      ]
     },
     "execution_count": 3,
     "metadata": {},
     "output_type": "execute_result"
    }
   ],
   "source": [
    "model_root_0 = load_model('models/tree_11/model_finals/model_root.h5')\n",
    "converter = lite.TFLiteConverter.from_keras_model(model_root_0)\n",
    "tflite_model = converter.convert()\n",
    "open(\"model_root_0.tflite\", \"wb\").write(tflite_model)"
   ]
  },
  {
   "cell_type": "code",
   "execution_count": 4,
   "id": "23763a3c-a7e3-44df-8a4a-3560e6003da8",
   "metadata": {},
   "outputs": [
    {
     "name": "stdout",
     "output_type": "stream",
     "text": [
      "INFO:tensorflow:Assets written to: C:\\Users\\Gabriele\\AppData\\Local\\Temp\\tmpovee6cud\\assets\n"
     ]
    },
    {
     "name": "stderr",
     "output_type": "stream",
     "text": [
      "INFO:tensorflow:Assets written to: C:\\Users\\Gabriele\\AppData\\Local\\Temp\\tmpovee6cud\\assets\n"
     ]
    },
    {
     "data": {
      "text/plain": [
       "2883544"
      ]
     },
     "execution_count": 4,
     "metadata": {},
     "output_type": "execute_result"
    }
   ],
   "source": [
    "model_root_1 = load_model('models/tree_11/model_finals/model_root_f1.h5')\n",
    "converter = lite.TFLiteConverter.from_keras_model(model_root_1)\n",
    "tflite_model = converter.convert()\n",
    "open(\"model_root_1.tflite\", \"wb\").write(tflite_model)"
   ]
  },
  {
   "cell_type": "code",
   "execution_count": 5,
   "id": "d63c7da7-f0b8-4718-9401-a8b6750847e2",
   "metadata": {},
   "outputs": [
    {
     "name": "stdout",
     "output_type": "stream",
     "text": [
      "INFO:tensorflow:Assets written to: C:\\Users\\Gabriele\\AppData\\Local\\Temp\\tmp3ltoferz\\assets\n"
     ]
    },
    {
     "name": "stderr",
     "output_type": "stream",
     "text": [
      "INFO:tensorflow:Assets written to: C:\\Users\\Gabriele\\AppData\\Local\\Temp\\tmp3ltoferz\\assets\n"
     ]
    },
    {
     "data": {
      "text/plain": [
       "2883544"
      ]
     },
     "execution_count": 5,
     "metadata": {},
     "output_type": "execute_result"
    }
   ],
   "source": [
    "model_root_2 = load_model('models/tree_11/model_finals/model_root_f1_1.h5')\n",
    "converter = lite.TFLiteConverter.from_keras_model(model_root_2)\n",
    "tflite_model = converter.convert()\n",
    "open(\"model_root_2.tflite\", \"wb\").write(tflite_model)"
   ]
  },
  {
   "cell_type": "code",
   "execution_count": 6,
   "id": "c33146c5-0cd7-4294-b08d-6111ad8b4081",
   "metadata": {},
   "outputs": [
    {
     "name": "stdout",
     "output_type": "stream",
     "text": [
      "INFO:tensorflow:Assets written to: C:\\Users\\Gabriele\\AppData\\Local\\Temp\\tmphw929ygt\\assets\n"
     ]
    },
    {
     "name": "stderr",
     "output_type": "stream",
     "text": [
      "INFO:tensorflow:Assets written to: C:\\Users\\Gabriele\\AppData\\Local\\Temp\\tmphw929ygt\\assets\n"
     ]
    },
    {
     "data": {
      "text/plain": [
       "2883440"
      ]
     },
     "execution_count": 6,
     "metadata": {},
     "output_type": "execute_result"
    }
   ],
   "source": [
    "model_root_3 = load_model('models/tree_11/model_finals/model_root_f1_1_1.h5')\n",
    "converter = lite.TFLiteConverter.from_keras_model(model_root_3)\n",
    "tflite_model = converter.convert()\n",
    "open(\"model_root_3.tflite\", \"wb\").write(tflite_model)"
   ]
  },
  {
   "cell_type": "code",
   "execution_count": 7,
   "id": "b9f38fc2-2da8-45a3-b46e-995798be1b7a",
   "metadata": {},
   "outputs": [
    {
     "name": "stdout",
     "output_type": "stream",
     "text": [
      "INFO:tensorflow:Assets written to: C:\\Users\\Gabriele\\AppData\\Local\\Temp\\tmp_8xcjq8k\\assets\n"
     ]
    },
    {
     "name": "stderr",
     "output_type": "stream",
     "text": [
      "INFO:tensorflow:Assets written to: C:\\Users\\Gabriele\\AppData\\Local\\Temp\\tmp_8xcjq8k\\assets\n"
     ]
    },
    {
     "data": {
      "text/plain": [
       "2883544"
      ]
     },
     "execution_count": 7,
     "metadata": {},
     "output_type": "execute_result"
    }
   ],
   "source": [
    "model_root_4 = load_model('models/tree_11/model_finals/model_root_f1_1_1_1.h5')\n",
    "converter = lite.TFLiteConverter.from_keras_model(model_root_4)\n",
    "tflite_model = converter.convert()\n",
    "open(\"model_root_4.tflite\", \"wb\").write(tflite_model)"
   ]
  },
  {
   "cell_type": "code",
   "execution_count": 8,
   "id": "5cca66a8-26fa-4e92-b4c3-f6c22af05a99",
   "metadata": {},
   "outputs": [
    {
     "name": "stdout",
     "output_type": "stream",
     "text": [
      "INFO:tensorflow:Assets written to: C:\\Users\\Gabriele\\AppData\\Local\\Temp\\tmpbhjvispo\\assets\n"
     ]
    },
    {
     "name": "stderr",
     "output_type": "stream",
     "text": [
      "INFO:tensorflow:Assets written to: C:\\Users\\Gabriele\\AppData\\Local\\Temp\\tmpbhjvispo\\assets\n"
     ]
    },
    {
     "data": {
      "text/plain": [
       "2883528"
      ]
     },
     "execution_count": 8,
     "metadata": {},
     "output_type": "execute_result"
    }
   ],
   "source": [
    "model_root_5 = load_model('models/tree_11/model_finals/model_root_f1_1_1_1_1.h5')\n",
    "converter = lite.TFLiteConverter.from_keras_model(model_root_5)\n",
    "tflite_model = converter.convert()\n",
    "open(\"model_root_5.tflite\", \"wb\").write(tflite_model)"
   ]
  },
  {
   "cell_type": "code",
   "execution_count": 9,
   "id": "da378798-3140-440b-9cb3-375e4a20bd8d",
   "metadata": {},
   "outputs": [
    {
     "name": "stdout",
     "output_type": "stream",
     "text": [
      "INFO:tensorflow:Assets written to: C:\\Users\\Gabriele\\AppData\\Local\\Temp\\tmpwhi__1y5\\assets\n"
     ]
    },
    {
     "name": "stderr",
     "output_type": "stream",
     "text": [
      "INFO:tensorflow:Assets written to: C:\\Users\\Gabriele\\AppData\\Local\\Temp\\tmpwhi__1y5\\assets\n"
     ]
    },
    {
     "data": {
      "text/plain": [
       "2883528"
      ]
     },
     "execution_count": 9,
     "metadata": {},
     "output_type": "execute_result"
    }
   ],
   "source": [
    "model_root_6 = load_model('models/tree_11/model_finals/model_root_f1_1_1_1_1_1.h5')\n",
    "converter = lite.TFLiteConverter.from_keras_model(model_root_6)\n",
    "tflite_model = converter.convert()\n",
    "open(\"model_root_6.tflite\", \"wb\").write(tflite_model)"
   ]
  },
  {
   "cell_type": "code",
   "execution_count": 10,
   "id": "69843671-201a-4b7a-b82d-a9c949db48fa",
   "metadata": {},
   "outputs": [
    {
     "name": "stdout",
     "output_type": "stream",
     "text": [
      "INFO:tensorflow:Assets written to: C:\\Users\\Gabriele\\AppData\\Local\\Temp\\tmpxt6pooqm\\assets\n"
     ]
    },
    {
     "name": "stderr",
     "output_type": "stream",
     "text": [
      "INFO:tensorflow:Assets written to: C:\\Users\\Gabriele\\AppData\\Local\\Temp\\tmpxt6pooqm\\assets\n"
     ]
    },
    {
     "data": {
      "text/plain": [
       "2883528"
      ]
     },
     "execution_count": 10,
     "metadata": {},
     "output_type": "execute_result"
    }
   ],
   "source": [
    "model_root_7 = load_model('models/tree_11/model_finals/model_root_f1_1_1_1_1_1_1.h5')\n",
    "converter = lite.TFLiteConverter.from_keras_model(model_root_7)\n",
    "tflite_model = converter.convert()\n",
    "open(\"model_root_7.tflite\", \"wb\").write(tflite_model)"
   ]
  },
  {
   "cell_type": "code",
   "execution_count": 11,
   "id": "86638178-69fe-4500-bd1a-88ee111db49c",
   "metadata": {},
   "outputs": [
    {
     "name": "stdout",
     "output_type": "stream",
     "text": [
      "INFO:tensorflow:Assets written to: C:\\Users\\Gabriele\\AppData\\Local\\Temp\\tmpb0suadlf\\assets\n"
     ]
    },
    {
     "name": "stderr",
     "output_type": "stream",
     "text": [
      "INFO:tensorflow:Assets written to: C:\\Users\\Gabriele\\AppData\\Local\\Temp\\tmpb0suadlf\\assets\n"
     ]
    },
    {
     "data": {
      "text/plain": [
       "2883440"
      ]
     },
     "execution_count": 11,
     "metadata": {},
     "output_type": "execute_result"
    }
   ],
   "source": [
    "model_root_8 = load_model('models/tree_11/model_finals/model_root_f1_1_1_1_1_1_1_1.h5')\n",
    "converter = lite.TFLiteConverter.from_keras_model(model_root_8)\n",
    "tflite_model = converter.convert()\n",
    "open(\"model_root_8.tflite\", \"wb\").write(tflite_model)"
   ]
  },
  {
   "cell_type": "code",
   "execution_count": null,
   "id": "06959ee2-79db-4543-b54f-2e687e2453d7",
   "metadata": {},
   "outputs": [],
   "source": []
  }
 ],
 "metadata": {
  "kernelspec": {
   "display_name": "Python 3 (ipykernel)",
   "language": "python",
   "name": "python3"
  },
  "language_info": {
   "codemirror_mode": {
    "name": "ipython",
    "version": 3
   },
   "file_extension": ".py",
   "mimetype": "text/x-python",
   "name": "python",
   "nbconvert_exporter": "python",
   "pygments_lexer": "ipython3",
   "version": "3.7.11"
  }
 },
 "nbformat": 4,
 "nbformat_minor": 5
}
