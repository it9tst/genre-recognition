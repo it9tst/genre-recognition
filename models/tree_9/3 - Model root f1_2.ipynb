{
 "cells": [
  {
   "cell_type": "code",
   "execution_count": 1,
   "id": "5f306383-42f3-44c8-9614-928ad54b4a41",
   "metadata": {},
   "outputs": [],
   "source": [
    "import os\n",
    "import numpy as np\n",
    "import librosa\n",
    "import librosa.display\n",
    "import matplotlib.pyplot as plt\n",
    "import tensorflow as tf\n",
    "from tensorflow.keras.models import Sequential, Model\n",
    "from tensorflow.keras.layers import Input, Dense, Conv2D, MaxPooling2D, Flatten\n",
    "from tensorflow.keras.callbacks import ModelCheckpoint, TensorBoard, ReduceLROnPlateau\n",
    "from tensorflow.keras import backend as K\n",
    "from tensorflow.keras import utils\n",
    "from tensorflow.keras.optimizers import Adam\n",
    "from tensorflow.keras import regularizers\n",
    "from sklearn.model_selection import KFold\n",
    "from os.path import isfile\n",
    "from datetime import datetime\n",
    "from more_itertools import set_partitions\n",
    "%matplotlib inline"
   ]
  },
  {
   "cell_type": "code",
   "execution_count": 2,
   "id": "dc8fa2ba-fe11-4385-9581-73259b4d84d5",
   "metadata": {},
   "outputs": [
    {
     "name": "stdout",
     "output_type": "stream",
     "text": [
      "GPU found\n"
     ]
    }
   ],
   "source": [
    "from tensorflow.compat.v1 import ConfigProto\n",
    "from tensorflow.compat.v1 import Session\n",
    "\n",
    "config = ConfigProto()\n",
    "config.gpu_options.allow_growth = True\n",
    "sess = Session(config=config)\n",
    "\n",
    "if tf.test.gpu_device_name():\n",
    "    print(\"GPU found\")\n",
    "else:\n",
    "    print(\"No GPU found\")"
   ]
  },
  {
   "cell_type": "markdown",
   "id": "4020d9ca-11d9-4ad9-aaa3-e97246265476",
   "metadata": {},
   "source": [
    "## Load training and Validation arrays"
   ]
  },
  {
   "cell_type": "code",
   "execution_count": 3,
   "id": "9da3540c-7b32-4cd8-84b4-fe7e55ad9e2f",
   "metadata": {},
   "outputs": [
    {
     "name": "stdout",
     "output_type": "stream",
     "text": [
      "{3: 'Disco', 7: 'Pop'}\n"
     ]
    }
   ],
   "source": [
    "#dict_genres = {'Blues':0, 'Classical':1, 'Country':2, 'Disco':3, 'Hip-Hop':4, 'Jazz':5, 'Metal':6, 'Pop':7, 'Reggae':8, 'Rock':9}\n",
    "dict_genres = {'Disco':3, 'Pop':7}\n",
    "\n",
    "reverse_map = {v: k for k, v in dict_genres.items()}\n",
    "print(reverse_map)"
   ]
  },
  {
   "cell_type": "code",
   "execution_count": 4,
   "id": "5073b9f1-fee2-409e-b793-080721049542",
   "metadata": {},
   "outputs": [
    {
     "name": "stdout",
     "output_type": "stream",
     "text": [
      "['arr_0', 'arr_1']\n",
      "(7990, 128, 128) (7990, 10)\n"
     ]
    }
   ],
   "source": [
    "npzfile = np.load('data/all_targets_sets_train_new.npz')\n",
    "print(npzfile.files)\n",
    "\n",
    "X_train = npzfile['arr_0']\n",
    "y_train = npzfile['arr_1']\n",
    "print(X_train.shape, y_train.shape)"
   ]
  },
  {
   "cell_type": "code",
   "execution_count": 5,
   "id": "0ab67a9c-9c0d-4ac6-8ff3-4fbae9ed5a47",
   "metadata": {},
   "outputs": [],
   "source": [
    "y_train = np.argmax(y_train, axis = -1)"
   ]
  },
  {
   "cell_type": "code",
   "execution_count": 6,
   "id": "3c304b78-6d05-47da-9515-1e4753c9d5f8",
   "metadata": {},
   "outputs": [],
   "source": [
    "y_train_mask = np.in1d(y_train, list(dict_genres.values()))"
   ]
  },
  {
   "cell_type": "code",
   "execution_count": 7,
   "id": "728b6627-a281-4362-a152-31a6cb141994",
   "metadata": {},
   "outputs": [],
   "source": [
    "y_train = y_train[y_train_mask]"
   ]
  },
  {
   "cell_type": "code",
   "execution_count": 8,
   "id": "16ac3812-ecdc-4420-b774-274e2cd11d3f",
   "metadata": {},
   "outputs": [],
   "source": [
    "y_train = utils.to_categorical(y_train, num_classes=10).astype(int)"
   ]
  },
  {
   "cell_type": "code",
   "execution_count": 9,
   "id": "ac6d938c-c55a-4c85-8873-13db51986fbf",
   "metadata": {},
   "outputs": [],
   "source": [
    "X_train = X_train[y_train_mask]"
   ]
  },
  {
   "cell_type": "code",
   "execution_count": 10,
   "id": "2ed14f7c-d13b-4acc-b55b-19f8f46cfebc",
   "metadata": {},
   "outputs": [
    {
     "data": {
      "text/plain": [
       "((1600, 128, 128), (1600, 10))"
      ]
     },
     "execution_count": 10,
     "metadata": {},
     "output_type": "execute_result"
    }
   ],
   "source": [
    "X_train.shape, y_train.shape"
   ]
  },
  {
   "cell_type": "code",
   "execution_count": 11,
   "id": "36f08e64-6ca4-40e4-908f-d6973f9571c7",
   "metadata": {},
   "outputs": [
    {
     "name": "stdout",
     "output_type": "stream",
     "text": [
      "['arr_0', 'arr_1']\n",
      "(1000, 128, 128) (1000, 10)\n"
     ]
    }
   ],
   "source": [
    "npzfile = np.load('data/all_targets_sets_valid_new.npz')\n",
    "print(npzfile.files)\n",
    "\n",
    "X_valid = npzfile['arr_0']\n",
    "y_valid = npzfile['arr_1']\n",
    "print(X_valid.shape, y_valid.shape)"
   ]
  },
  {
   "cell_type": "code",
   "execution_count": 12,
   "id": "875c3b3a-53b7-411e-94fc-ed51fa568471",
   "metadata": {},
   "outputs": [],
   "source": [
    "y_valid = np.argmax(y_valid, axis = -1)"
   ]
  },
  {
   "cell_type": "code",
   "execution_count": 13,
   "id": "b5cc3d44-c0a3-498d-b41f-13dbfe877359",
   "metadata": {},
   "outputs": [],
   "source": [
    "y_valid_mask = np.in1d(y_valid, list(dict_genres.values()))"
   ]
  },
  {
   "cell_type": "code",
   "execution_count": 14,
   "id": "46b45dbd-628f-4a61-ad83-e3e2fb5bfc53",
   "metadata": {},
   "outputs": [],
   "source": [
    "y_valid = y_valid[y_valid_mask]"
   ]
  },
  {
   "cell_type": "code",
   "execution_count": 15,
   "id": "53e81225-52ef-47fa-9a5f-6848ee67e343",
   "metadata": {},
   "outputs": [],
   "source": [
    "y_valid = utils.to_categorical(y_valid, num_classes=10).astype(int)"
   ]
  },
  {
   "cell_type": "code",
   "execution_count": 16,
   "id": "67f39a70-078f-4cd7-a0df-0b69a7cb7a66",
   "metadata": {},
   "outputs": [],
   "source": [
    "X_valid = X_valid[y_valid_mask]"
   ]
  },
  {
   "cell_type": "code",
   "execution_count": 17,
   "id": "893b057f-caea-4ce1-aceb-32004f5e3d0e",
   "metadata": {},
   "outputs": [
    {
     "data": {
      "text/plain": [
       "((200, 128, 128), (200, 10))"
      ]
     },
     "execution_count": 17,
     "metadata": {},
     "output_type": "execute_result"
    }
   ],
   "source": [
    "X_valid.shape, y_valid.shape"
   ]
  },
  {
   "cell_type": "markdown",
   "id": "c917ff44-a927-4e68-8ab1-ade0193e4054",
   "metadata": {},
   "source": [
    "## Check by plotting a Spectogram"
   ]
  },
  {
   "cell_type": "code",
   "execution_count": 18,
   "id": "779fe309-8138-42f9-9fc1-7ce2ad8c182c",
   "metadata": {},
   "outputs": [
    {
     "name": "stdout",
     "output_type": "stream",
     "text": [
      "Disco\n"
     ]
    },
    {
     "data": {
      "image/png": "[encoded data removed]",
      "text/plain": [
       "<Figure size 720x360 with 2 Axes>"
      ]
     },
     "metadata": {
      "needs_background": "light"
     },
     "output_type": "display_data"
    }
   ],
   "source": [
    "num = 0\n",
    "spectogram = X_train[num]\n",
    "genre = np.argmax(y_train[num])\n",
    "print(reverse_map[genre])\n",
    "plt.figure(figsize=(10, 5))\n",
    "librosa.display.specshow(spectogram.T, y_axis='mel', x_axis='time')\n",
    "plt.colorbar(format='%+2.0f dB')\n",
    "plt.title('Test Melspectogram')\n",
    "plt.tight_layout()"
   ]
  },
  {
   "cell_type": "markdown",
   "id": "f670fd50-d391-44bb-9972-172f43c46718",
   "metadata": {},
   "source": [
    "## Parallel CNN - RNN Model"
   ]
  },
  {
   "cell_type": "code",
   "execution_count": 19,
   "id": "da658036-e09d-431c-a0fd-3f530acc8cf9",
   "metadata": {},
   "outputs": [],
   "source": [
    "batch_size = 32\n",
    "num_classes = 2\n",
    "n_features = X_train.shape[2]\n",
    "n_time = X_train.shape[1]"
   ]
  },
  {
   "cell_type": "code",
   "execution_count": 20,
   "id": "b4a8323a-b5c5-40c6-8acf-562d2b515daf",
   "metadata": {},
   "outputs": [],
   "source": [
    "nb_filters1=32\n",
    "nb_filters2=64\n",
    "nb_filters3=128\n",
    "nb_filters4=512\n",
    "ksize = (3,3)\n",
    "pool_size_1= (2,2)\n",
    "\n",
    "EPOCH_COUNT = 30\n",
    "\n",
    "def conv_recurrent_model_build(model_input):\n",
    "    print('Building model...')\n",
    "    layer = model_input\n",
    "    \n",
    "    ### Convolutional blocks\n",
    "    conv_1 = Conv2D(filters = nb_filters1, kernel_size = ksize, strides=1, padding= 'valid', activation='relu', name='conv_1')(layer)\n",
    "    pool_1 = MaxPooling2D(pool_size_1)(conv_1)\n",
    "\n",
    "    conv_2 = Conv2D(filters = nb_filters2, kernel_size = ksize, strides=1, padding= 'valid', activation='relu', name='conv_2')(pool_1)\n",
    "    pool_2 = MaxPooling2D(pool_size_1)(conv_2)\n",
    "\n",
    "    conv_3 = Conv2D(filters = nb_filters3, kernel_size = ksize, strides=1, padding= 'valid', activation='relu', name='conv_3')(pool_2)\n",
    "    pool_3 = MaxPooling2D(pool_size_1)(conv_3)\n",
    "    \n",
    "    conv_4 = Conv2D(filters = nb_filters4, kernel_size = ksize, strides=1, padding= 'valid', activation='relu', name='conv_4')(pool_3)\n",
    "    pool_4 = MaxPooling2D(pool_size_1)(conv_4)\n",
    "    \n",
    "    flatten1 = Flatten()(pool_4)\n",
    "    \n",
    "    output = Dense(num_classes, activation = 'softmax', name='preds')(flatten1)\n",
    "    \n",
    "    model_output = output\n",
    "    model = Model(model_input, model_output)\n",
    "    \n",
    "    opt = Adam(learning_rate=0.001)\n",
    "    \n",
    "    model.compile(loss='categorical_crossentropy', optimizer=opt, metrics=['accuracy'])\n",
    "    print(model.summary())\n",
    "    return model"
   ]
  },
  {
   "cell_type": "code",
   "execution_count": 21,
   "id": "f7b868a9-d1d8-4a51-9802-b1db805a7f1d",
   "metadata": {},
   "outputs": [],
   "source": [
    "def train_model(x_train, y_train, x_val, y_val, info = \"\", genres_name = \"\"):\n",
    "    n_frames = 128\n",
    "    n_frequency = 128\n",
    "    \n",
    "    #reshape and expand dims for conv2d\n",
    "    x_train = np.expand_dims(x_train, axis = -1)\n",
    "    x_val = np.expand_dims(x_val, axis = -1)\n",
    "    \n",
    "    input_shape = (n_frames, n_frequency, 1)\n",
    "    model_input = Input(input_shape, name='input')\n",
    "    \n",
    "    model = conv_recurrent_model_build(model_input)\n",
    "    \n",
    "    log_dir = \"./logs/tree_9/model_root_f1_2/\"+datetime.now().strftime(\"%Y%m%d-%H%M%S_\")+info\n",
    "    tb_callback = TensorBoard(log_dir=log_dir, histogram_freq=1, write_graph=True, write_images=False, update_freq='batch', profile_batch=2, embeddings_freq=0, embeddings_metadata=None)\n",
    "\n",
    "    model_folder = \"./models/tree_9/model_root_f1_2/{}\".format(info)\n",
    "    os.makedirs(model_folder, exist_ok=True)\n",
    "    \n",
    "    f = open(\"{}/info.txt\".format(model_folder), \"w\")\n",
    "    f.write(\"genre name split: {}\".format(genres_name))\n",
    "    checkpoint_callback = ModelCheckpoint('{}/model.h5'.format(model_folder), monitor='val_accuracy', verbose=1, save_best_only=True, mode='max')\n",
    "    \n",
    "    reducelr_callback = ReduceLROnPlateau(monitor='val_accuracy', factor=0.5, patience=10, min_delta=0.01, verbose=1)\n",
    "    callbacks_list = [tb_callback, checkpoint_callback, reducelr_callback]\n",
    "    \n",
    "    f.close()\n",
    "    \n",
    "    # Fit the model and get training history.\n",
    "    print('Training...')\n",
    "    history = model.fit(x_train, y_train, batch_size=batch_size, epochs=EPOCH_COUNT, validation_data=(x_val, y_val), verbose=1, callbacks=callbacks_list)\n",
    "    \n",
    "    return model, history"
   ]
  },
  {
   "cell_type": "code",
   "execution_count": 22,
   "id": "b2e2551c-d88b-4a1c-960b-07bf4ede67f2",
   "metadata": {},
   "outputs": [],
   "source": [
    "def create_split(elem):\n",
    "    splits = list(set_partitions(elem, 2))\n",
    "    \n",
    "    return splits, len(splits)"
   ]
  },
  {
   "cell_type": "code",
   "execution_count": 23,
   "id": "d3aaa0e7-8dfa-4a74-9b2e-c437b5ffbae6",
   "metadata": {},
   "outputs": [],
   "source": [
    "def show_summary_stats(history):\n",
    "    # List all data in history\n",
    "    print(history.history.keys())\n",
    "\n",
    "    # Summarize history for accuracy\n",
    "    plt.plot(history.history['accuracy'])\n",
    "    plt.plot(history.history['val_accuracy'])\n",
    "    plt.title('model accuracy')\n",
    "    plt.ylabel('accuracy')\n",
    "    plt.xlabel('epoch')\n",
    "    plt.legend(['train', 'val'], loc='upper left')\n",
    "    plt.show()\n",
    "\n",
    "    # Summarize history for loss\n",
    "    plt.plot(history.history['loss'])\n",
    "    plt.plot(history.history['val_loss'])\n",
    "    plt.title('model loss')\n",
    "    plt.ylabel('loss')\n",
    "    plt.xlabel('epoch')\n",
    "    plt.legend(['train', 'val'], loc='upper left')\n",
    "    plt.show()"
   ]
  },
  {
   "cell_type": "code",
   "execution_count": 24,
   "id": "ab5c71b3-2cef-427b-afc2-e5f86e09343e",
   "metadata": {},
   "outputs": [
    {
     "name": "stdout",
     "output_type": "stream",
     "text": [
      "Num splits 1\n",
      "Folder num 1\n",
      "Genre split [['Disco'], ['Pop']]\n",
      "Building model...\n",
      "Model: \"model\"\n",
      "_________________________________________________________________\n",
      "Layer (type)                 Output Shape              Param #   \n",
      "=================================================================\n",
      "input (InputLayer)           [(None, 128, 128, 1)]     0         \n",
      "_________________________________________________________________\n",
      "conv_1 (Conv2D)              (None, 126, 126, 32)      320       \n",
      "_________________________________________________________________\n",
      "max_pooling2d (MaxPooling2D) (None, 63, 63, 32)        0         \n",
      "_________________________________________________________________\n",
      "conv_2 (Conv2D)              (None, 61, 61, 64)        18496     \n",
      "_________________________________________________________________\n",
      "max_pooling2d_1 (MaxPooling2 (None, 30, 30, 64)        0         \n",
      "_________________________________________________________________\n",
      "conv_3 (Conv2D)              (None, 28, 28, 128)       73856     \n",
      "_________________________________________________________________\n",
      "max_pooling2d_2 (MaxPooling2 (None, 14, 14, 128)       0         \n",
      "_________________________________________________________________\n",
      "conv_4 (Conv2D)              (None, 12, 12, 512)       590336    \n",
      "_________________________________________________________________\n",
      "max_pooling2d_3 (MaxPooling2 (None, 6, 6, 512)         0         \n",
      "_________________________________________________________________\n",
      "flatten (Flatten)            (None, 18432)             0         \n",
      "_________________________________________________________________\n",
      "preds (Dense)                (None, 2)                 36866     \n",
      "=================================================================\n",
      "Total params: 719,874\n",
      "Trainable params: 719,874\n",
      "Non-trainable params: 0\n",
      "_________________________________________________________________\n",
      "None\n",
      "Training...\n",
      "Epoch 1/30\n",
      "50/50 [==============================] - 5s 29ms/step - loss: 0.9066 - accuracy: 0.5390 - val_loss: 0.6283 - val_accuracy: 0.6533\n",
      "\n",
      "Epoch 00001: val_accuracy improved from -inf to 0.65333, saving model to ./models/tree_9/model_root_f1_2/folder1\\model.h5\n",
      "Epoch 2/30\n",
      "50/50 [==============================] - 1s 18ms/step - loss: 0.4729 - accuracy: 0.7733 - val_loss: 0.3267 - val_accuracy: 0.8578\n",
      "\n",
      "Epoch 00002: val_accuracy improved from 0.65333 to 0.85778, saving model to ./models/tree_9/model_root_f1_2/folder1\\model.h5\n",
      "Epoch 3/30\n",
      "50/50 [==============================] - 1s 18ms/step - loss: 0.3367 - accuracy: 0.8248 - val_loss: 0.3624 - val_accuracy: 0.8222\n",
      "\n",
      "Epoch 00003: val_accuracy did not improve from 0.85778\n",
      "Epoch 4/30\n",
      "50/50 [==============================] - 1s 18ms/step - loss: 0.3198 - accuracy: 0.8337 - val_loss: 0.3072 - val_accuracy: 0.8578\n",
      "\n",
      "Epoch 00004: val_accuracy did not improve from 0.85778\n",
      "Epoch 5/30\n",
      "50/50 [==============================] - 1s 18ms/step - loss: 0.2950 - accuracy: 0.8514 - val_loss: 0.2700 - val_accuracy: 0.8800\n",
      "\n",
      "Epoch 00005: val_accuracy improved from 0.85778 to 0.88000, saving model to ./models/tree_9/model_root_f1_2/folder1\\model.h5\n",
      "Epoch 6/30\n",
      "50/50 [==============================] - 1s 18ms/step - loss: 0.2813 - accuracy: 0.8635 - val_loss: 0.2618 - val_accuracy: 0.8889\n",
      "\n",
      "Epoch 00006: val_accuracy improved from 0.88000 to 0.88889, saving model to ./models/tree_9/model_root_f1_2/folder1\\model.h5\n",
      "Epoch 7/30\n",
      "50/50 [==============================] - 1s 18ms/step - loss: 0.2574 - accuracy: 0.8775 - val_loss: 0.2697 - val_accuracy: 0.8933\n",
      "\n",
      "Epoch 00007: val_accuracy improved from 0.88889 to 0.89333, saving model to ./models/tree_9/model_root_f1_2/folder1\\model.h5\n",
      "Epoch 8/30\n",
      "50/50 [==============================] - 1s 17ms/step - loss: 0.2452 - accuracy: 0.8832 - val_loss: 0.2370 - val_accuracy: 0.9022\n",
      "\n",
      "Epoch 00008: val_accuracy improved from 0.89333 to 0.90222, saving model to ./models/tree_9/model_root_f1_2/folder1\\model.h5\n",
      "Epoch 9/30\n",
      "50/50 [==============================] - 1s 18ms/step - loss: 0.2391 - accuracy: 0.8838 - val_loss: 0.2283 - val_accuracy: 0.9156\n",
      "\n",
      "Epoch 00009: val_accuracy improved from 0.90222 to 0.91556, saving model to ./models/tree_9/model_root_f1_2/folder1\\model.h5\n",
      "Epoch 10/30\n",
      "50/50 [==============================] - 1s 18ms/step - loss: 0.2295 - accuracy: 0.8984 - val_loss: 0.2653 - val_accuracy: 0.8667loss: 0.2210 - \n",
      "\n",
      "Epoch 00010: val_accuracy did not improve from 0.91556\n",
      "Epoch 11/30\n",
      "50/50 [==============================] - 1s 18ms/step - loss: 0.2149 - accuracy: 0.9003 - val_loss: 0.2386 - val_accuracy: 0.8889\n",
      "\n",
      "Epoch 00011: val_accuracy did not improve from 0.91556\n",
      "Epoch 12/30\n",
      "50/50 [==============================] - 1s 18ms/step - loss: 0.2093 - accuracy: 0.9117 - val_loss: 0.2049 - val_accuracy: 0.9067\n",
      "\n",
      "Epoch 00012: val_accuracy did not improve from 0.91556\n",
      "Epoch 13/30\n",
      "50/50 [==============================] - 1s 18ms/step - loss: 0.1954 - accuracy: 0.9149 - val_loss: 0.2740 - val_accuracy: 0.8711\n",
      "\n",
      "Epoch 00013: val_accuracy did not improve from 0.91556\n",
      "Epoch 14/30\n",
      "50/50 [==============================] - 1s 18ms/step - loss: 0.1680 - accuracy: 0.9333 - val_loss: 0.2250 - val_accuracy: 0.8889\n",
      "\n",
      "Epoch 00014: val_accuracy did not improve from 0.91556\n",
      "Epoch 15/30\n",
      "50/50 [==============================] - 1s 18ms/step - loss: 0.1714 - accuracy: 0.9257 - val_loss: 0.3045 - val_accuracy: 0.8578\n",
      "\n",
      "Epoch 00015: val_accuracy did not improve from 0.91556\n",
      "Epoch 16/30\n",
      "50/50 [==============================] - 1s 18ms/step - loss: 0.1443 - accuracy: 0.9384 - val_loss: 0.2556 - val_accuracy: 0.8978\n",
      "\n",
      "Epoch 00016: val_accuracy did not improve from 0.91556\n",
      "Epoch 17/30\n",
      "50/50 [==============================] - 1s 18ms/step - loss: 0.1438 - accuracy: 0.9492 - val_loss: 0.2778 - val_accuracy: 0.9022\n",
      "\n",
      "Epoch 00017: val_accuracy did not improve from 0.91556\n",
      "Epoch 18/30\n",
      "50/50 [==============================] - 1s 18ms/step - loss: 0.1310 - accuracy: 0.9441 - val_loss: 0.2651 - val_accuracy: 0.9067\n",
      "\n",
      "Epoch 00018: val_accuracy did not improve from 0.91556\n",
      "Epoch 19/30\n",
      "50/50 [==============================] - 1s 18ms/step - loss: 0.1430 - accuracy: 0.9384 - val_loss: 0.4979 - val_accuracy: 0.8267\n",
      "\n",
      "Epoch 00019: val_accuracy did not improve from 0.91556\n",
      "\n",
      "Epoch 00019: ReduceLROnPlateau reducing learning rate to 0.0005000000237487257.\n",
      "Epoch 20/30\n",
      "50/50 [==============================] - 1s 18ms/step - loss: 0.1210 - accuracy: 0.9473 - val_loss: 0.2728 - val_accuracy: 0.9022\n",
      "\n",
      "Epoch 00020: val_accuracy did not improve from 0.91556\n",
      "Epoch 21/30\n",
      "50/50 [==============================] - 1s 18ms/step - loss: 0.0737 - accuracy: 0.9771 - val_loss: 0.2682 - val_accuracy: 0.9022\n",
      "\n",
      "Epoch 00021: val_accuracy did not improve from 0.91556\n",
      "Epoch 22/30\n",
      "50/50 [==============================] - 1s 18ms/step - loss: 0.0623 - accuracy: 0.9797 - val_loss: 0.2858 - val_accuracy: 0.8889\n",
      "\n",
      "Epoch 00022: val_accuracy did not improve from 0.91556\n",
      "Epoch 23/30\n",
      "50/50 [==============================] - 1s 18ms/step - loss: 0.0583 - accuracy: 0.9810 - val_loss: 0.3211 - val_accuracy: 0.8933\n",
      "\n",
      "Epoch 00023: val_accuracy did not improve from 0.91556\n",
      "Epoch 24/30\n",
      "50/50 [==============================] - 1s 18ms/step - loss: 0.0395 - accuracy: 0.9917 - val_loss: 0.2813 - val_accuracy: 0.8933\n",
      "\n",
      "Epoch 00024: val_accuracy did not improve from 0.91556\n",
      "Epoch 25/30\n",
      "50/50 [==============================] - 1s 18ms/step - loss: 0.0322 - accuracy: 0.9911 - val_loss: 0.3080 - val_accuracy: 0.8933\n",
      "\n",
      "Epoch 00025: val_accuracy did not improve from 0.91556\n",
      "Epoch 26/30\n",
      "50/50 [==============================] - 1s 18ms/step - loss: 0.0211 - accuracy: 0.9962 - val_loss: 0.3360 - val_accuracy: 0.8889\n",
      "\n",
      "Epoch 00026: val_accuracy did not improve from 0.91556\n",
      "Epoch 27/30\n",
      "50/50 [==============================] - 1s 18ms/step - loss: 0.0154 - accuracy: 0.9994 - val_loss: 0.3669 - val_accuracy: 0.8800\n",
      "\n",
      "Epoch 00027: val_accuracy did not improve from 0.91556\n",
      "Epoch 28/30\n",
      "50/50 [==============================] - 1s 18ms/step - loss: 0.0143 - accuracy: 0.9994 - val_loss: 0.3489 - val_accuracy: 0.8933\n",
      "\n",
      "Epoch 00028: val_accuracy did not improve from 0.91556\n",
      "Epoch 29/30\n",
      "50/50 [==============================] - 1s 18ms/step - loss: 0.0088 - accuracy: 1.0000 - val_loss: 0.3654 - val_accuracy: 0.8933\n",
      "\n",
      "Epoch 00029: val_accuracy did not improve from 0.91556\n",
      "\n",
      "Epoch 00029: ReduceLROnPlateau reducing learning rate to 0.0002500000118743628.\n",
      "Epoch 30/30\n",
      "50/50 [==============================] - 1s 18ms/step - loss: 0.0054 - accuracy: 1.0000 - val_loss: 0.3642 - val_accuracy: 0.8978\n",
      "\n",
      "Epoch 00030: val_accuracy did not improve from 0.91556\n",
      "dict_keys(['loss', 'accuracy', 'val_loss', 'val_accuracy', 'lr'])\n"
     ]
    },
    {
     "data": {
      "image/png": "[encoded data removed]",
      "text/plain": [
       "<Figure size 432x288 with 1 Axes>"
      ]
     },
     "metadata": {
      "needs_background": "light"
     },
     "output_type": "display_data"
    },
    {
     "data": {
      "image/png": "[encoded data removed]",
      "text/plain": [
       "<Figure size 432x288 with 1 Axes>"
      ]
     },
     "metadata": {
      "needs_background": "light"
     },
     "output_type": "display_data"
    }
   ],
   "source": [
    "X_train_cross = np.concatenate((X_train, X_valid), axis=0)\n",
    "y_train_cross = np.concatenate((y_train, y_valid), axis=0)\n",
    "\n",
    "genre_splits, num_splits = create_split(list(dict_genres.values()))\n",
    "print(\"Num splits {}\".format(num_splits))\n",
    "\n",
    "if num_splits > 8:\n",
    "    n_splits = num_splits\n",
    "else:\n",
    "    n_splits = 8\n",
    "\n",
    "kfold = KFold(n_splits, shuffle=True)\n",
    "\n",
    "fold_no = 1\n",
    "for train, test in kfold.split(X_train_cross, y_train_cross):\n",
    "    split = genre_splits[fold_no - 1]\n",
    "    \n",
    "    y_train_cross_binary = np.argmax(y_train_cross, axis=1)\n",
    "    y_train_cross_binary = np.in1d(y_train_cross_binary, split[0])\n",
    "    y_train_cross_binary = utils.to_categorical(y_train_cross_binary*1, num_classes=2)\n",
    "    \n",
    "    print(\"Folder num {}\".format(fold_no))\n",
    "    genres_name = [[reverse_map[g] for g in split_l] for split_l in split]\n",
    "    print(\"Genre split {}\".format(genres_name))\n",
    "    \n",
    "    model, history  = train_model(X_train_cross[train], y_train_cross_binary[train], X_train_cross[test], y_train_cross_binary[test], \"folder{}\".format(fold_no), genres_name)\n",
    "    show_summary_stats(history)\n",
    "    \n",
    "    fold_no += 1\n",
    "    if fold_no > num_splits:\n",
    "        break"
   ]
  },
  {
   "cell_type": "code",
   "execution_count": null,
   "id": "765f72ed-efd8-4fee-a361-c1da504abef2",
   "metadata": {},
   "outputs": [],
   "source": []
  },
  {
   "cell_type": "code",
   "execution_count": null,
   "id": "a1eef2bb-eb98-4524-96f1-891173fb2937",
   "metadata": {},
   "outputs": [],
   "source": []
  }
 ],
 "metadata": {
  "kernelspec": {
   "display_name": "Python 3 (ipykernel)",
   "language": "python",
   "name": "python3"
  },
  "language_info": {
   "codemirror_mode": {
    "name": "ipython",
    "version": 3
   },
   "file_extension": ".py",
   "mimetype": "text/x-python",
   "name": "python",
   "nbconvert_exporter": "python",
   "pygments_lexer": "ipython3",
   "version": "3.7.11"
  }
 },
 "nbformat": 4,
 "nbformat_minor": 5
}
